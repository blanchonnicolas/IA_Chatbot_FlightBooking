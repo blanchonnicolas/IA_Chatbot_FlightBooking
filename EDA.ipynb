{
 "cells": [
  {
   "cell_type": "markdown",
   "metadata": {},
   "source": [
    "<font color='yellow'>\n",
    "<h1><b>FlyMe - Développez un chatbot pour réserver des vacances</b></h1>\n",
    "\n",
    "<h2>Projet 10 - Parcours Ingénieur IA - Openclassrooms</h2>\n",
    "\n",
    "</font>\n",
    "\n",
    "[GITHUB](https://github.com/blanchonnicolas/IA_Project10_Openclassrooms_Chatbot)<br>\n",
    "[DATASET](https://www.microsoft.com/en-us/research/project/frames-dataset/#!download)<br>\n",
    "\n",
    "**FlyMe** est une agence qui propose des voyages clé en main pour les particuliers ou les professionnels.<br>\n",
    "<img src=\"files/FlyMe_image.png\">\n",
    "\n",
    "\n",
    "Fly Me a lancé un projet ambitieux de développement d’un chatbot pour aider les utilisateurs à choisir une offre de voyage.<br>\n",
    "Je suis l’un des ingénieurs IA au sein de l’équipe de cette entreprise, et je suis mobilisé pour le *projet chatbot - Construction d'un MVP pour les collaborateurs internes*.<br>\n",
    "Ce premier MVP devra **pouvoir identifier dans la demande de l’utilisateur les cinq éléments suivants** :\n",
    "\n",
    "- ✅ Ville de départ</br>\n",
    "- ✅ Ville de destination\n",
    "- ✅ Date aller souhaitée du vol\n",
    "- ✅ Date retour souhaitée du vol\n",
    "- ✅ Budget maximum pour le prix total des billets\n",
    "\n",
    "> **Note:** Si un des éléments est manquant, le chatbot devra pouvoir poser les questions pertinentes (en anglais) à l’utilisateur pour comprendre complètement sa demande.\n",
    "\n",
    "***\n",
    "\n",
    "La solution de Chatbot, reposera sur la **stack téchnique suivante**:\n",
    "\n",
    "1. Microsoft Bot [Microsoft Bot Framework SDK v4 for Python](https://github.com/microsoft/botbuilder-python)\n",
    "2. [Service cognitif LUIS d’Azure](https://azure.microsoft.com/fr-fr/services/cognitive-services/language-understanding-intelligent-service)\n",
    "3. Service Web App d’Azure\n",
    "4. Bot Framework Emulator\n",
    "5. [Azure application insight](https://docs.microsoft.com/fr-fr/azure/azure-monitor/app/app-insights-overview)\n",
    "\n",
    "\n",
    "***\n",
    "Au travers de ce notebook, nous réalisons l'étude préparatoir des données:<br>\n",
    "- [Lecture des données](#Lecture-des-données)<br>\n",
    "- [Analyse des données](#Analyse-des-données)<br>\n",
    "- [Nettoyage des données](#Nettoyage-des-données)<br>\n",
    "- [Sauvegarde des données](#Sauvegarde-des-données)<br>\n"
   ]
  },
  {
   "cell_type": "markdown",
   "metadata": {},
   "source": [
    "## Lecture des données"
   ]
  },
  {
   "cell_type": "code",
   "execution_count": 1,
   "metadata": {},
   "outputs": [
    {
     "name": "stdout",
     "output_type": "stream",
     "text": [
      "Functions have been properly imported !\n"
     ]
    }
   ],
   "source": [
    "#Import functions createdon my side\n",
    "from Functions_custo_by_Nico import *\n",
    "Test_Imported_Functions()\n"
   ]
  },
  {
   "cell_type": "code",
   "execution_count": 2,
   "metadata": {},
   "outputs": [
    {
     "name": "stdout",
     "output_type": "stream",
     "text": [
      "c:\\Users\\blanc\\OpenClassrooms\\IA_Project10_Openclassrooms_Chatbot\\dataset\n",
      "|_ .git\n",
      "|_ .github\n",
      "|_ .pytest_cache\n",
      "|_ .vscode\n",
      "|_ botbuilder\n",
      "|_ dataset\n",
      "|_ EDA.ipynb\n",
      "|_ files\n",
      "|_ Fly-Me-BOT-Azure.bot\n",
      "|_ FlyMe_BOT_MVP\n",
      "|_ Functions_custo_by_Nico.py\n",
      "|_ luis\n",
      "|_ luis_util.py\n",
      "|_ README.md\n",
      "|_ requirements.txt\n",
      "|_ Sources\n",
      "|_ unit_test\n",
      "|_ __pycache__\n"
     ]
    }
   ],
   "source": [
    "src_path = os.path.abspath(os.path.join(\"../IA_Project10_Openclassrooms_Chatbot\"))\n",
    "if src_path not in sys.path:\n",
    "    sys.path.append(src_path)\n",
    "\n",
    "#Build Data path\n",
    "data_path = os.path.join(src_path, \"dataset\")\n",
    "print(data_path)\n",
    "for f in os.listdir(src_path):\n",
    "    print(\"|_\",f)"
   ]
  },
  {
   "cell_type": "code",
   "execution_count": 3,
   "metadata": {},
   "outputs": [
    {
     "name": "stdout",
     "output_type": "stream",
     "text": [
      "Dimensionnalité :  (1369, 5)\n"
     ]
    },
    {
     "data": {
      "text/html": [
       "<div>\n",
       "<style scoped>\n",
       "    .dataframe tbody tr th:only-of-type {\n",
       "        vertical-align: middle;\n",
       "    }\n",
       "\n",
       "    .dataframe tbody tr th {\n",
       "        vertical-align: top;\n",
       "    }\n",
       "\n",
       "    .dataframe thead th {\n",
       "        text-align: right;\n",
       "    }\n",
       "</style>\n",
       "<table border=\"1\" class=\"dataframe\">\n",
       "  <thead>\n",
       "    <tr style=\"text-align: right;\">\n",
       "      <th></th>\n",
       "      <th>user_id</th>\n",
       "      <th>turns</th>\n",
       "      <th>wizard_id</th>\n",
       "      <th>id</th>\n",
       "      <th>labels</th>\n",
       "    </tr>\n",
       "  </thead>\n",
       "  <tbody>\n",
       "    <tr>\n",
       "      <th>0</th>\n",
       "      <td>U22HTHYNP</td>\n",
       "      <td>[{'text': 'I'd like to book a trip to Atlantis...</td>\n",
       "      <td>U21DKG18C</td>\n",
       "      <td>e2c0fc6c-2134-4891-8353-ef16d8412c9a</td>\n",
       "      <td>{'userSurveyRating': 4.0, 'wizardSurveyTaskSuc...</td>\n",
       "    </tr>\n",
       "    <tr>\n",
       "      <th>1</th>\n",
       "      <td>U21E41CQP</td>\n",
       "      <td>[{'text': 'Hello, I am looking to book a vacat...</td>\n",
       "      <td>U21DMV0KA</td>\n",
       "      <td>4a3bfa39-2c22-42c8-8694-32b4e34415e9</td>\n",
       "      <td>{'userSurveyRating': 3.0, 'wizardSurveyTaskSuc...</td>\n",
       "    </tr>\n",
       "    <tr>\n",
       "      <th>2</th>\n",
       "      <td>U21RP4FCY</td>\n",
       "      <td>[{'text': 'Hello there i am looking to go on a...</td>\n",
       "      <td>U21E0179B</td>\n",
       "      <td>6e67ed28-e94c-4fab-96b6-68569a92682f</td>\n",
       "      <td>{'userSurveyRating': 2.0, 'wizardSurveyTaskSuc...</td>\n",
       "    </tr>\n",
       "    <tr>\n",
       "      <th>3</th>\n",
       "      <td>U22HTHYNP</td>\n",
       "      <td>[{'text': 'Hi I'd like to go to Caprica from B...</td>\n",
       "      <td>U21DKG18C</td>\n",
       "      <td>5ae76e50-5b48-4166-9f6d-67aaabd7bcaa</td>\n",
       "      <td>{'userSurveyRating': 5.0, 'wizardSurveyTaskSuc...</td>\n",
       "    </tr>\n",
       "    <tr>\n",
       "      <th>4</th>\n",
       "      <td>U21E41CQP</td>\n",
       "      <td>[{'text': 'Hello, I am looking to book a trip ...</td>\n",
       "      <td>U21DMV0KA</td>\n",
       "      <td>24603086-bb53-431e-a0d8-1dcc63518ba9</td>\n",
       "      <td>{'userSurveyRating': 5.0, 'wizardSurveyTaskSuc...</td>\n",
       "    </tr>\n",
       "  </tbody>\n",
       "</table>\n",
       "</div>"
      ],
      "text/plain": [
       "     user_id                                              turns  wizard_id  \\\n",
       "0  U22HTHYNP  [{'text': 'I'd like to book a trip to Atlantis...  U21DKG18C   \n",
       "1  U21E41CQP  [{'text': 'Hello, I am looking to book a vacat...  U21DMV0KA   \n",
       "2  U21RP4FCY  [{'text': 'Hello there i am looking to go on a...  U21E0179B   \n",
       "3  U22HTHYNP  [{'text': 'Hi I'd like to go to Caprica from B...  U21DKG18C   \n",
       "4  U21E41CQP  [{'text': 'Hello, I am looking to book a trip ...  U21DMV0KA   \n",
       "\n",
       "                                     id  \\\n",
       "0  e2c0fc6c-2134-4891-8353-ef16d8412c9a   \n",
       "1  4a3bfa39-2c22-42c8-8694-32b4e34415e9   \n",
       "2  6e67ed28-e94c-4fab-96b6-68569a92682f   \n",
       "3  5ae76e50-5b48-4166-9f6d-67aaabd7bcaa   \n",
       "4  24603086-bb53-431e-a0d8-1dcc63518ba9   \n",
       "\n",
       "                                              labels  \n",
       "0  {'userSurveyRating': 4.0, 'wizardSurveyTaskSuc...  \n",
       "1  {'userSurveyRating': 3.0, 'wizardSurveyTaskSuc...  \n",
       "2  {'userSurveyRating': 2.0, 'wizardSurveyTaskSuc...  \n",
       "3  {'userSurveyRating': 5.0, 'wizardSurveyTaskSuc...  \n",
       "4  {'userSurveyRating': 5.0, 'wizardSurveyTaskSuc...  "
      ]
     },
     "execution_count": 3,
     "metadata": {},
     "output_type": "execute_result"
    }
   ],
   "source": [
    "#Read data\n",
    "data = pd.read_json(os.path.join(data_path, 'frames', 'frames.json'))\n",
    "print(\"Dimensionnalité : \", data.shape)\n",
    "data.head()"
   ]
  },
  {
   "cell_type": "markdown",
   "metadata": {},
   "source": [
    "## Analyse des données\n",
    "\n",
    "Comme nous avons pu le voir ci-dessous, les données Frames sont au format JSON [Plus dinfo ici](https://www.microsoft.com/en-us/research/project/frames-dataset/download/).\n",
    "Chaque dialogue BOT/User est constitué de **5 champs principaux**: \n",
    "- user_id\n",
    "- wizard_id\n",
    "- id\n",
    "- labels\n",
    "- turns\n",
    "\n",
    "Nous allons ci-dessous **explorer les champs labels et turns**, afin de comprendre leur structure respective.\n",
    "> Note: Les champs labels et turns affichent l'imbrication de dict\n"
   ]
  },
  {
   "cell_type": "code",
   "execution_count": 13,
   "metadata": {},
   "outputs": [
    {
     "data": {
      "text/html": [
       "<div>\n",
       "<style scoped>\n",
       "    .dataframe tbody tr th:only-of-type {\n",
       "        vertical-align: middle;\n",
       "    }\n",
       "\n",
       "    .dataframe tbody tr th {\n",
       "        vertical-align: top;\n",
       "    }\n",
       "\n",
       "    .dataframe thead th {\n",
       "        text-align: right;\n",
       "    }\n",
       "</style>\n",
       "<table border=\"1\" class=\"dataframe\">\n",
       "  <thead>\n",
       "    <tr style=\"text-align: right;\">\n",
       "      <th></th>\n",
       "      <th>user_id</th>\n",
       "      <th>turns</th>\n",
       "      <th>wizard_id</th>\n",
       "      <th>id</th>\n",
       "      <th>labels</th>\n",
       "    </tr>\n",
       "  </thead>\n",
       "  <tbody>\n",
       "    <tr>\n",
       "      <th>count</th>\n",
       "      <td>1369</td>\n",
       "      <td>1369</td>\n",
       "      <td>1369</td>\n",
       "      <td>1369</td>\n",
       "      <td>1369</td>\n",
       "    </tr>\n",
       "    <tr>\n",
       "      <th>unique</th>\n",
       "      <td>11</td>\n",
       "      <td>1369</td>\n",
       "      <td>12</td>\n",
       "      <td>1369</td>\n",
       "      <td>16</td>\n",
       "    </tr>\n",
       "    <tr>\n",
       "      <th>top</th>\n",
       "      <td>U22K1SX9N</td>\n",
       "      <td>[{'text': 'I'd like to book a trip to Atlantis...</td>\n",
       "      <td>U21T9NMKM</td>\n",
       "      <td>e2c0fc6c-2134-4891-8353-ef16d8412c9a</td>\n",
       "      <td>{'userSurveyRating': 5.0, 'wizardSurveyTaskSuc...</td>\n",
       "    </tr>\n",
       "    <tr>\n",
       "      <th>freq</th>\n",
       "      <td>345</td>\n",
       "      <td>1</td>\n",
       "      <td>301</td>\n",
       "      <td>1</td>\n",
       "      <td>929</td>\n",
       "    </tr>\n",
       "  </tbody>\n",
       "</table>\n",
       "</div>"
      ],
      "text/plain": [
       "          user_id                                              turns  \\\n",
       "count        1369                                               1369   \n",
       "unique         11                                               1369   \n",
       "top     U22K1SX9N  [{'text': 'I'd like to book a trip to Atlantis...   \n",
       "freq          345                                                  1   \n",
       "\n",
       "        wizard_id                                    id  \\\n",
       "count        1369                                  1369   \n",
       "unique         12                                  1369   \n",
       "top     U21T9NMKM  e2c0fc6c-2134-4891-8353-ef16d8412c9a   \n",
       "freq          301                                     1   \n",
       "\n",
       "                                                   labels  \n",
       "count                                                1369  \n",
       "unique                                                 16  \n",
       "top     {'userSurveyRating': 5.0, 'wizardSurveyTaskSuc...  \n",
       "freq                                                  929  "
      ]
     },
     "execution_count": 13,
     "metadata": {},
     "output_type": "execute_result"
    }
   ],
   "source": [
    "data.describe(include='all')\n"
   ]
  },
  {
   "cell_type": "code",
   "execution_count": 14,
   "metadata": {},
   "outputs": [
    {
     "name": "stdout",
     "output_type": "stream",
     "text": [
      "Il y a  82 dialogues qui ont rendu un effet négatif.\n"
     ]
    }
   ],
   "source": [
    "#Column Label : Segregate Json format and spread info in new dataframe columns\n",
    "satisfaction_data = pd.json_normalize(data[\"labels\"])\n",
    "data[\"userSurveyRating\"] = satisfaction_data[\"userSurveyRating\"]\n",
    "data[\"wizardSurveyTaskSuccessful\"] = satisfaction_data[\"wizardSurveyTaskSuccessful\"]\n",
    "print(\"Il y a \", data[data[\"wizardSurveyTaskSuccessful\"] == False].shape[0],\n",
    "      \"dialogues qui ont rendu un effet négatif.\")\n",
    "#data.describe(include='all')\n"
   ]
  },
  {
   "cell_type": "code",
   "execution_count": 6,
   "metadata": {},
   "outputs": [
    {
     "data": {
      "text/plain": [
       "array([4.  , 3.  , 2.  , 5.  , 1.  ,  nan, 4.8 , 4.5 , 4.99, 3.5 ])"
      ]
     },
     "execution_count": 6,
     "metadata": {},
     "output_type": "execute_result"
    }
   ],
   "source": [
    "# Cautious!!! Some values are not integer !!!\n",
    "data[\"userSurveyRating\"].unique()\n"
   ]
  },
  {
   "cell_type": "code",
   "execution_count": 7,
   "metadata": {},
   "outputs": [
    {
     "data": {
      "text/html": [
       "<div>\n",
       "<style scoped>\n",
       "    .dataframe tbody tr th:only-of-type {\n",
       "        vertical-align: middle;\n",
       "    }\n",
       "\n",
       "    .dataframe tbody tr th {\n",
       "        vertical-align: top;\n",
       "    }\n",
       "\n",
       "    .dataframe thead th {\n",
       "        text-align: right;\n",
       "    }\n",
       "</style>\n",
       "<table border=\"1\" class=\"dataframe\">\n",
       "  <thead>\n",
       "    <tr style=\"text-align: right;\">\n",
       "      <th></th>\n",
       "      <th>text</th>\n",
       "      <th>labels</th>\n",
       "      <th>author</th>\n",
       "      <th>timestamp</th>\n",
       "      <th>db</th>\n",
       "    </tr>\n",
       "  </thead>\n",
       "  <tbody>\n",
       "    <tr>\n",
       "      <th>0</th>\n",
       "      <td>I'd like to book a trip to Atlantis from Capri...</td>\n",
       "      <td>{'acts': [{'args': [{'val': 'book', 'key': 'in...</td>\n",
       "      <td>user</td>\n",
       "      <td>1.471272e+12</td>\n",
       "      <td>NaN</td>\n",
       "    </tr>\n",
       "    <tr>\n",
       "      <th>1</th>\n",
       "      <td>Hi...I checked a few options for you, and unfo...</td>\n",
       "      <td>{'acts': [{'args': [{'val': [{'annotations': [...</td>\n",
       "      <td>wizard</td>\n",
       "      <td>1.471272e+12</td>\n",
       "      <td>{'result': [[{'trip': {'returning': {'duration...</td>\n",
       "    </tr>\n",
       "    <tr>\n",
       "      <th>2</th>\n",
       "      <td>Yes, how about going to Neverland from Caprica...</td>\n",
       "      <td>{'acts': [{'args': [{'val': 'Neverland', 'key'...</td>\n",
       "      <td>user</td>\n",
       "      <td>1.471273e+12</td>\n",
       "      <td>NaN</td>\n",
       "    </tr>\n",
       "    <tr>\n",
       "      <th>3</th>\n",
       "      <td>I checked the availability for this date and t...</td>\n",
       "      <td>{'acts': [{'args': [{'val': [{'annotations': [...</td>\n",
       "      <td>wizard</td>\n",
       "      <td>1.471273e+12</td>\n",
       "      <td>{'result': [[], [], [], [], [], []], 'search':...</td>\n",
       "    </tr>\n",
       "    <tr>\n",
       "      <th>4</th>\n",
       "      <td>I have no flexibility for dates... but I can l...</td>\n",
       "      <td>{'acts': [{'args': [{'val': False, 'key': 'fle...</td>\n",
       "      <td>user</td>\n",
       "      <td>1.471273e+12</td>\n",
       "      <td>NaN</td>\n",
       "    </tr>\n",
       "    <tr>\n",
       "      <th>5</th>\n",
       "      <td>I checked the availability for that date and t...</td>\n",
       "      <td>{'acts': [{'args': [{'val': [{'annotations': [...</td>\n",
       "      <td>wizard</td>\n",
       "      <td>1.471273e+12</td>\n",
       "      <td>{'result': [[]], 'search': [{'ORIGIN_CITY': 'A...</td>\n",
       "    </tr>\n",
       "    <tr>\n",
       "      <th>6</th>\n",
       "      <td>I suppose I'll speak with my husband to see if...</td>\n",
       "      <td>{'acts': [{'args': [], 'name': 'thankyou'}], '...</td>\n",
       "      <td>user</td>\n",
       "      <td>1.471273e+12</td>\n",
       "      <td>NaN</td>\n",
       "    </tr>\n",
       "  </tbody>\n",
       "</table>\n",
       "</div>"
      ],
      "text/plain": [
       "                                                text  \\\n",
       "0  I'd like to book a trip to Atlantis from Capri...   \n",
       "1  Hi...I checked a few options for you, and unfo...   \n",
       "2  Yes, how about going to Neverland from Caprica...   \n",
       "3  I checked the availability for this date and t...   \n",
       "4  I have no flexibility for dates... but I can l...   \n",
       "5  I checked the availability for that date and t...   \n",
       "6  I suppose I'll speak with my husband to see if...   \n",
       "\n",
       "                                              labels  author     timestamp  \\\n",
       "0  {'acts': [{'args': [{'val': 'book', 'key': 'in...    user  1.471272e+12   \n",
       "1  {'acts': [{'args': [{'val': [{'annotations': [...  wizard  1.471272e+12   \n",
       "2  {'acts': [{'args': [{'val': 'Neverland', 'key'...    user  1.471273e+12   \n",
       "3  {'acts': [{'args': [{'val': [{'annotations': [...  wizard  1.471273e+12   \n",
       "4  {'acts': [{'args': [{'val': False, 'key': 'fle...    user  1.471273e+12   \n",
       "5  {'acts': [{'args': [{'val': [{'annotations': [...  wizard  1.471273e+12   \n",
       "6  {'acts': [{'args': [], 'name': 'thankyou'}], '...    user  1.471273e+12   \n",
       "\n",
       "                                                  db  \n",
       "0                                                NaN  \n",
       "1  {'result': [[{'trip': {'returning': {'duration...  \n",
       "2                                                NaN  \n",
       "3  {'result': [[], [], [], [], [], []], 'search':...  \n",
       "4                                                NaN  \n",
       "5  {'result': [[]], 'search': [{'ORIGIN_CITY': 'A...  \n",
       "6                                                NaN  "
      ]
     },
     "execution_count": 7,
     "metadata": {},
     "output_type": "execute_result"
    }
   ],
   "source": [
    "#Column turns : Segregate Json format and spread info in new dataframe columns\n",
    "entry_id = 0\n",
    "data_turns = pd.DataFrame(data['turns'][entry_id])\n",
    "data_turns"
   ]
  },
  {
   "cell_type": "code",
   "execution_count": 8,
   "metadata": {},
   "outputs": [
    {
     "data": {
      "text/plain": [
       "{'text': \"I'd like to book a trip to Atlantis from Caprica on Saturday, August 13, 2016 for 8 adults. I have a tight budget of 1700.\",\n",
       " 'labels': {'acts': [{'args': [{'val': 'book', 'key': 'intent'}],\n",
       "    'name': 'inform'},\n",
       "   {'args': [{'val': 'Atlantis', 'key': 'dst_city'},\n",
       "     {'val': 'Caprica', 'key': 'or_city'},\n",
       "     {'val': 'Saturday, August 13, 2016', 'key': 'str_date'},\n",
       "     {'val': '8', 'key': 'n_adults'},\n",
       "     {'val': '1700', 'key': 'budget'}],\n",
       "    'name': 'inform'}],\n",
       "  'acts_without_refs': [{'args': [{'val': 'book', 'key': 'intent'}],\n",
       "    'name': 'inform'},\n",
       "   {'args': [{'val': 'Atlantis', 'key': 'dst_city'},\n",
       "     {'val': 'Caprica', 'key': 'or_city'},\n",
       "     {'val': 'Saturday, August 13, 2016', 'key': 'str_date'},\n",
       "     {'val': '8', 'key': 'n_adults'},\n",
       "     {'val': '1700', 'key': 'budget'}],\n",
       "    'name': 'inform'}],\n",
       "  'active_frame': 1,\n",
       "  'frames': [{'info': {'intent': [{'val': 'book', 'negated': False}],\n",
       "     'budget': [{'val': '1700.0', 'negated': False}],\n",
       "     'dst_city': [{'val': 'Atlantis', 'negated': False}],\n",
       "     'or_city': [{'val': 'Caprica', 'negated': False}],\n",
       "     'str_date': [{'val': 'august 13', 'negated': False}],\n",
       "     'n_adults': [{'val': '8', 'negated': False}]},\n",
       "    'frame_id': 1,\n",
       "    'requests': [],\n",
       "    'frame_parent_id': None,\n",
       "    'binary_questions': [],\n",
       "    'compare_requests': []}]},\n",
       " 'author': 'user',\n",
       " 'timestamp': 1471272019730.0}"
      ]
     },
     "execution_count": 8,
     "metadata": {},
     "output_type": "execute_result"
    }
   ],
   "source": [
    "# Display turns values for a chosen entry_id (= raw of Frames dataset), and looking more specifically to first discussion exchange  [0]\n",
    "data['turns'][entry_id][0]"
   ]
  },
  {
   "cell_type": "markdown",
   "metadata": {},
   "source": [
    "> Note: Les champs turns affichent l'imbrication de dict. Nous developperons une fonction ci-dessous afin de comprendre sa structure\n",
    "\n",
    "Dans un premiers temps, nous analysons le nombre d'échanges User / BOT comptabilisé dans notre jeu de données.\n",
    "\n",
    "Ensuite, nous chercherons à **extraire les données qui nous intérresse**, afin de les réutiliser lors de l'entrainement de notre BOT (Utilisation de LUIS)"
   ]
  },
  {
   "cell_type": "code",
   "execution_count": 8,
   "metadata": {},
   "outputs": [
    {
     "data": {
      "text/html": [
       "<div>\n",
       "<style scoped>\n",
       "    .dataframe tbody tr th:only-of-type {\n",
       "        vertical-align: middle;\n",
       "    }\n",
       "\n",
       "    .dataframe tbody tr th {\n",
       "        vertical-align: top;\n",
       "    }\n",
       "\n",
       "    .dataframe thead th {\n",
       "        text-align: right;\n",
       "    }\n",
       "</style>\n",
       "<table border=\"1\" class=\"dataframe\">\n",
       "  <thead>\n",
       "    <tr style=\"text-align: right;\">\n",
       "      <th></th>\n",
       "      <th>user</th>\n",
       "      <th>wizard</th>\n",
       "    </tr>\n",
       "  </thead>\n",
       "  <tbody>\n",
       "    <tr>\n",
       "      <th>0</th>\n",
       "      <td>10407</td>\n",
       "      <td>9579</td>\n",
       "    </tr>\n",
       "  </tbody>\n",
       "</table>\n",
       "</div>"
      ],
      "text/plain": [
       "    user  wizard\n",
       "0  10407    9579"
      ]
     },
     "execution_count": 8,
     "metadata": {},
     "output_type": "execute_result"
    }
   ],
   "source": [
    "#Study number of User/Wizard authoring text from dialogue\n",
    "dic_author = {}\n",
    "for turns in data['turns']:\n",
    "    for message in turns:\n",
    "        author = message[\"author\"]\n",
    "        if not author in dic_author.keys():\n",
    "            dic_author[author] = 1\n",
    "        else:\n",
    "            dic_author[author] += 1\n",
    "pd.json_normalize(dic_author)\n"
   ]
  },
  {
   "cell_type": "code",
   "execution_count": 13,
   "metadata": {},
   "outputs": [
    {
     "data": {
      "image/png": "[encoded data removed]",
      "text/plain": [
       "<Figure size 800x500 with 1 Axes>"
      ]
     },
     "metadata": {},
     "output_type": "display_data"
    }
   ],
   "source": [
    "#Définir la taille du graphique\n",
    "fig, ax = plt.subplots(figsize=(8,5))\n",
    "#Définir lae type du graphique, ici BARPLOT avec en Labels l'index du nom des libelle\n",
    "ax = sns.barplot(data=pd.json_normalize(dic_author))\n",
    "plt.title(f\"Number of User/Wizard authoring text from dialogue\")\n",
    "#Afficher le graphique\n",
    "plt.show()"
   ]
  },
  {
   "cell_type": "code",
   "execution_count": 37,
   "metadata": {},
   "outputs": [
    {
     "data": {
      "text/html": [
       "<div>\n",
       "<style scoped>\n",
       "    .dataframe tbody tr th:only-of-type {\n",
       "        vertical-align: middle;\n",
       "    }\n",
       "\n",
       "    .dataframe tbody tr th {\n",
       "        vertical-align: top;\n",
       "    }\n",
       "\n",
       "    .dataframe thead th {\n",
       "        text-align: right;\n",
       "    }\n",
       "</style>\n",
       "<table border=\"1\" class=\"dataframe\">\n",
       "  <thead>\n",
       "    <tr style=\"text-align: right;\">\n",
       "      <th></th>\n",
       "      <th>Name under acts</th>\n",
       "      <th>Occurence</th>\n",
       "    </tr>\n",
       "  </thead>\n",
       "  <tbody>\n",
       "    <tr>\n",
       "      <th>1</th>\n",
       "      <td>inform</td>\n",
       "      <td>2252</td>\n",
       "    </tr>\n",
       "    <tr>\n",
       "      <th>0</th>\n",
       "      <td>greeting</td>\n",
       "      <td>405</td>\n",
       "    </tr>\n",
       "    <tr>\n",
       "      <th>2</th>\n",
       "      <td>request</td>\n",
       "      <td>15</td>\n",
       "    </tr>\n",
       "    <tr>\n",
       "      <th>3</th>\n",
       "      <td>thankyou</td>\n",
       "      <td>1</td>\n",
       "    </tr>\n",
       "  </tbody>\n",
       "</table>\n",
       "</div>"
      ],
      "text/plain": [
       "  Name under acts  Occurence\n",
       "1          inform       2252\n",
       "0        greeting        405\n",
       "2         request         15\n",
       "3        thankyou          1"
      ]
     },
     "execution_count": 37,
     "metadata": {},
     "output_type": "execute_result"
    }
   ],
   "source": [
    "# Etract values recognized by BOT and usefull for our application # In labels column: 'acts': [{'name':\n",
    "interesting_name = []\n",
    "for entry_id in range(0,1369):\n",
    "    for dialog_step in [data['turns'][entry_id][:1]]: # We look into 2 first dialogs only\n",
    "        for dialog in dialog_step:    \n",
    "            if dialog[\"author\"] == \"user\": # We catch only user dialog\n",
    "                acts = dialog[\"labels\"][\"acts\"] # We look into labels info from turns, and more precisely under \"act\" column (Exclusion of 'acts_without_refs')\n",
    "                for act in acts:\n",
    "                    name = act[\"name\"]\n",
    "                    interesting_name.append(name)\n",
    "\n",
    "interesting_name_unique, interesting_name_count = np.unique(interesting_name, return_counts=True)\n",
    "# for i in range(len(interesting_name_unique)):\n",
    "#     print(f\"Name : {interesting_name_unique[i]} occurence = {interesting_name_count[i]}\")\n",
    "name_analysis = pd.DataFrame(columns=['Name under acts', 'Occurence'])\n",
    "name_analysis['Name under acts'] = interesting_name_unique\n",
    "name_analysis['Occurence'] = interesting_name_count\n",
    "name_analysis.sort_values(by=['Occurence'], ascending=False)"
   ]
  },
  {
   "cell_type": "code",
   "execution_count": 19,
   "metadata": {},
   "outputs": [
    {
     "data": {
      "image/png": "[encoded data removed]",
      "text/plain": [
       "<Figure size 800x500 with 1 Axes>"
      ]
     },
     "metadata": {},
     "output_type": "display_data"
    }
   ],
   "source": [
    "#Définir la taille du graphique\n",
    "fig, ax = plt.subplots(figsize=(8,5))\n",
    "#Définir lae type du graphique, ici BARPLOT avec en Labels l'index du nom des libelle\n",
    "ax = sns.barplot(data=name_analysis, x=name_analysis[\"Occurence\"], y=name_analysis[\"Name under acts\"], palette=colors_from_values_integer(name_analysis[\"Occurence\"], \"Greens_d\"))\n",
    "plt.title(f\"Number of Dialog intent category\")\n",
    "#Afficher le graphique\n",
    "plt.show()"
   ]
  },
  {
   "cell_type": "code",
   "execution_count": 16,
   "metadata": {},
   "outputs": [
    {
     "data": {
      "text/html": [
       "<div>\n",
       "<style scoped>\n",
       "    .dataframe tbody tr th:only-of-type {\n",
       "        vertical-align: middle;\n",
       "    }\n",
       "\n",
       "    .dataframe tbody tr th {\n",
       "        vertical-align: top;\n",
       "    }\n",
       "\n",
       "    .dataframe thead th {\n",
       "        text-align: right;\n",
       "    }\n",
       "</style>\n",
       "<table border=\"1\" class=\"dataframe\">\n",
       "  <thead>\n",
       "    <tr style=\"text-align: right;\">\n",
       "      <th></th>\n",
       "      <th>Entity under acts[args]</th>\n",
       "      <th>Occurence</th>\n",
       "    </tr>\n",
       "  </thead>\n",
       "  <tbody>\n",
       "    <tr>\n",
       "      <th>8</th>\n",
       "      <td>intent</td>\n",
       "      <td>1136</td>\n",
       "    </tr>\n",
       "    <tr>\n",
       "      <th>5</th>\n",
       "      <td>dst_city</td>\n",
       "      <td>897</td>\n",
       "    </tr>\n",
       "    <tr>\n",
       "      <th>14</th>\n",
       "      <td>or_city</td>\n",
       "      <td>811</td>\n",
       "    </tr>\n",
       "    <tr>\n",
       "      <th>19</th>\n",
       "      <td>str_date</td>\n",
       "      <td>381</td>\n",
       "    </tr>\n",
       "    <tr>\n",
       "      <th>11</th>\n",
       "      <td>n_adults</td>\n",
       "      <td>282</td>\n",
       "    </tr>\n",
       "    <tr>\n",
       "      <th>2</th>\n",
       "      <td>budget</td>\n",
       "      <td>238</td>\n",
       "    </tr>\n",
       "    <tr>\n",
       "      <th>6</th>\n",
       "      <td>end_date</td>\n",
       "      <td>215</td>\n",
       "    </tr>\n",
       "    <tr>\n",
       "      <th>12</th>\n",
       "      <td>n_children</td>\n",
       "      <td>114</td>\n",
       "    </tr>\n",
       "    <tr>\n",
       "      <th>9</th>\n",
       "      <td>max_duration</td>\n",
       "      <td>91</td>\n",
       "    </tr>\n",
       "    <tr>\n",
       "      <th>3</th>\n",
       "      <td>category</td>\n",
       "      <td>31</td>\n",
       "    </tr>\n",
       "    <tr>\n",
       "      <th>18</th>\n",
       "      <td>seat</td>\n",
       "      <td>14</td>\n",
       "    </tr>\n",
       "    <tr>\n",
       "      <th>7</th>\n",
       "      <td>flex</td>\n",
       "      <td>11</td>\n",
       "    </tr>\n",
       "    <tr>\n",
       "      <th>16</th>\n",
       "      <td>price</td>\n",
       "      <td>6</td>\n",
       "    </tr>\n",
       "    <tr>\n",
       "      <th>13</th>\n",
       "      <td>name</td>\n",
       "      <td>6</td>\n",
       "    </tr>\n",
       "    <tr>\n",
       "      <th>0</th>\n",
       "      <td>beach</td>\n",
       "      <td>4</td>\n",
       "    </tr>\n",
       "    <tr>\n",
       "      <th>15</th>\n",
       "      <td>park</td>\n",
       "      <td>3</td>\n",
       "    </tr>\n",
       "    <tr>\n",
       "      <th>10</th>\n",
       "      <td>min_duration</td>\n",
       "      <td>2</td>\n",
       "    </tr>\n",
       "    <tr>\n",
       "      <th>17</th>\n",
       "      <td>ref</td>\n",
       "      <td>1</td>\n",
       "    </tr>\n",
       "    <tr>\n",
       "      <th>1</th>\n",
       "      <td>breakfast</td>\n",
       "      <td>1</td>\n",
       "    </tr>\n",
       "    <tr>\n",
       "      <th>4</th>\n",
       "      <td>count_dst_city</td>\n",
       "      <td>1</td>\n",
       "    </tr>\n",
       "    <tr>\n",
       "      <th>20</th>\n",
       "      <td>university</td>\n",
       "      <td>1</td>\n",
       "    </tr>\n",
       "  </tbody>\n",
       "</table>\n",
       "</div>"
      ],
      "text/plain": [
       "   Entity under acts[args]  Occurence\n",
       "8                   intent       1136\n",
       "5                 dst_city        897\n",
       "14                 or_city        811\n",
       "19                str_date        381\n",
       "11                n_adults        282\n",
       "2                   budget        238\n",
       "6                 end_date        215\n",
       "12              n_children        114\n",
       "9             max_duration         91\n",
       "3                 category         31\n",
       "18                    seat         14\n",
       "7                     flex         11\n",
       "16                   price          6\n",
       "13                    name          6\n",
       "0                    beach          4\n",
       "15                    park          3\n",
       "10            min_duration          2\n",
       "17                     ref          1\n",
       "1                breakfast          1\n",
       "4           count_dst_city          1\n",
       "20              university          1"
      ]
     },
     "execution_count": 16,
     "metadata": {},
     "output_type": "execute_result"
    }
   ],
   "source": [
    "# Etract values recognized by BOT and usefull for our application # In labels column: 'acts': [{'name':\n",
    "interesting_entities = []\n",
    "for entry_id in range(0,1369):\n",
    "    for dialog_step in [data['turns'][entry_id][:1]]: # We look into 2 first dialogs only\n",
    "        for dialog in dialog_step:    \n",
    "            if dialog[\"author\"] == \"user\": # We catch only user dialog\n",
    "                acts = dialog[\"labels\"][\"acts\"] # We look into labels info from turns, and more precisely under \"act\" column (Exclusion of 'acts_without_refs')\n",
    "                for act in acts:\n",
    "                    if act[\"args\"]:\n",
    "                        for arg in act[\"args\"]:\n",
    "                            if \"key\" in arg: #info structure like: {'val': 'Atlantis', 'key': 'dst_city'},{'val': 'Caprica', 'key': 'or_city'}\n",
    "                                key = arg[\"key\"]\n",
    "                                interesting_entities.append(key)\n",
    "\n",
    "interesting_entities_unique, interesting_entities_count = np.unique(interesting_entities, return_counts=True)\n",
    "# for i in range(len(interesting_entities_unique)):\n",
    "#     print(f\"Entity : {interesting_entities_unique[i]} occurence = {interesting_entities_count[i]}\")\n",
    "entity_analysis = pd.DataFrame(columns=['Entity under acts[args]', 'Occurence'])\n",
    "entity_analysis['Entity under acts[args]'] = interesting_entities_unique\n",
    "entity_analysis['Occurence'] = interesting_entities_count\n",
    "entity_analysis.sort_values(by=['Occurence'], ascending=False)"
   ]
  },
  {
   "cell_type": "code",
   "execution_count": 32,
   "metadata": {},
   "outputs": [
    {
     "data": {
      "image/png": "[encoded data removed]",
      "text/plain": [
       "<Figure size 800x500 with 1 Axes>"
      ]
     },
     "metadata": {},
     "output_type": "display_data"
    }
   ],
   "source": [
    "#Définir la taille du graphique\n",
    "fig, ax = plt.subplots(figsize=(8,5))\n",
    "#Définir lae type du graphique, ici BARPLOT avec en Labels l'index du nom des libelle\n",
    "#\n",
    "ax = sns.barplot(data=entity_analysis, x=entity_analysis[\"Occurence\"], y=entity_analysis['Entity under acts[args]'], palette=colors_from_values_integer(entity_analysis[\"Occurence\"], \"Greens_d\"))\n",
    "plt.title(f\"Number of Dialog Entities category\")\n",
    "#Afficher le graphique\n",
    "plt.show()"
   ]
  },
  {
   "cell_type": "code",
   "execution_count": 12,
   "metadata": {},
   "outputs": [
    {
     "data": {
      "text/plain": [
       "{'intent': ['intent', 'book'],\n",
       " 'dst_city': ['dst_city', 'Atlantis'],\n",
       " 'or_city': ['or_city', 'Caprica'],\n",
       " 'str_date': ['str_date', 'Saturday, August 13, 2016'],\n",
       " 'n_adults': ['n_adults', '8'],\n",
       " 'budget': ['budget', '1700']}"
      ]
     },
     "execution_count": 12,
     "metadata": {},
     "output_type": "execute_result"
    }
   ],
   "source": [
    "# Extract values recognized by BOT and usefull for our application # In labels column: 'acts': [{'args': [{'val': 'book'\n",
    "entry_id = 0 #Select data Frames raw by choosing entry_id\n",
    "\n",
    "interesting_entities_value = {} # We want to consolidate intersting variables for our BOT\n",
    "for dialog_step in [data['turns'][entry_id][:1]]: # We look into 2 first dialogs only\n",
    "    for dialog in dialog_step:\n",
    "        if dialog[\"author\"] == \"user\": # We catch only user dialog\n",
    "            acts = dialog[\"labels\"][\"acts\"] # We look into labels info from turns, and more precisely under \"act\" column (Exclusion of 'acts_without_refs')\n",
    "            for act in acts:\n",
    "                #name = act[\"name\"]\n",
    "                if act[\"args\"]:\n",
    "                    for arg in act[\"args\"]:\n",
    "                        if \"key\" in arg and \"val\" in arg: #info structure like: {'val': 'Atlantis', 'key': 'dst_city'},{'val': 'Caprica', 'key': 'or_city'}\n",
    "                            key = arg[\"key\"]\n",
    "                            val = arg[\"val\"]                                                  \n",
    "                        else:\n",
    "                            continue\n",
    "                        if key not in interesting_entities_value:\n",
    "                            interesting_entities_value[key] = [key]\n",
    "                        else:\n",
    "                            continue\n",
    "                        interesting_entities_value[key].append(val)\n",
    "                #interesting_entities[key].append(name)\n",
    "interesting_entities_value\n"
   ]
  },
  {
   "cell_type": "markdown",
   "metadata": {},
   "source": [
    "Comme expliqué [ici](https://learn.microsoft.com/fr-fr/azure/cognitive-services/luis/concepts/application-design), notre schéma d'application (LUIS) devra contenir les intentions et les entités pertinentes pour la réservation de voyage.\n",
    "***\n",
    "\n",
    "> Note: Nous conservons uniquement les premiers echanges \"turns\" pour chaque ligne du jeu de données Frames.json\n",
    "\n",
    "On remarque que notre jeu de données Frames.json les informations suivantes :\n",
    " - Intention: Reservation (**Book : spécifié dès le premier échange : *labels column: 'acts': [{'args': [{'val': 'book'***)\n",
    " - Destination: Atlantis\n",
    " - Origine: Caprica\n",
    " - Date: 13 Aout 2016\n",
    " - nombre d'adultes: 8\n",
    " - Budget: 1700\n",
    " - Ref: Nous avons exclus les arguments retrouvons ici les Tuples imbriqués, qui font références au message antérieurs de l'utilisateur (Nous n'utiliserons pas cette information dans le cadre de notre projet V1)\n",
    "\n",
    "***\n",
    "\n",
    "Voici les informations clés suivantes à déterminer par notre BOT : \n",
    "- 'dst_city'    (Occurence: 897)\n",
    "- 'or_city'     (Occurence: 811)\n",
    "- 'str_date'    (Occurence: 381)\n",
    "- 'end_date'    (Occurence: 215)\n",
    "- 'budget'      (Budget: 238)\n",
    "\n",
    ">Nous notons ainsi que d'autres entités pourrait être pertinement ajoutées (nombre d'adultes, nombre d'enfants, durée maximum de voyage)"
   ]
  },
  {
   "cell_type": "markdown",
   "metadata": {},
   "source": [
    "## Nettoyage des données"
   ]
  },
  {
   "cell_type": "markdown",
   "metadata": {},
   "source": [
    "### Convertir les informations de notre dataset pour le rendre compatible avec le format JSON attendu par LUIS\n",
    "\n",
    "Nous devons concevoir le schéma d’application LUIS. notamment :\n",
    "- Intentions avec des exemples d’énoncés (Book_flight)\n",
    "- [Entités](https://learn.microsoft.com/fr-fr/azure/cognitive-services/luis/luis-concept-entity-types) (éléments de données extraits de l’énoncé, ex: destination, la date, la catégorie de ticket et la classe de voyage, le nombre de voyageurs)\n",
    "- Fonctionnalités\n",
    "\n",
    "Les entités LUIS permettent au BOT de comprendre les événements / intentions. Cela permet de collecter des informations supplémentaires, afin que le BOT puisse poser des questions et répondre plus intelligemment. \n",
    "le fichier FlightBooking.json d'origine contient les intentions : « Book Flight », « Cancel » et « None », avec un ensemble d’entités telles que « From.Airport » et « To.Airport ».\n",
    "\n",
    "Nous chercherons ci-dessous à :\n",
    "1. Extraire les informations demandées pour notre MVP.\n",
    "2. Formatter ces informations comme attendu par LUIS\n",
    "> Note: Une attention particulière a été portée afin de nettoyer certains caractères préjudiciable à l'entrainement, tels que certaines monnaies (budget: $, £, €)"
   ]
  },
  {
   "cell_type": "code",
   "execution_count": 13,
   "metadata": {},
   "outputs": [],
   "source": [
    "#Here an example of Utterance content\n",
    "# \"utterances\": [\n",
    "#     {\n",
    "#       \"text\": \"book flight from london to paris on feb 14th\",\n",
    "#       \"intent\": \"Book flight\",\n",
    "#       \"entities\": [\n",
    "#         {\n",
    "#           \"entity\": \"To\",\n",
    "#           \"startPos\": 27,\n",
    "#           \"endPos\": 31\n",
    "#         },"
   ]
  },
  {
   "cell_type": "code",
   "execution_count": 14,
   "metadata": {},
   "outputs": [
    {
     "data": {
      "text/plain": [
       "{'intent': ['intent', 'book'],\n",
       " 'dst_city': ['dst_city', 'Atlantis'],\n",
       " 'or_city': ['or_city', 'Caprica'],\n",
       " 'str_date': ['str_date', 'Saturday, August 13, 2016'],\n",
       " 'n_adults': ['n_adults', '8'],\n",
       " 'budget': ['budget', '1700']}"
      ]
     },
     "execution_count": 14,
     "metadata": {},
     "output_type": "execute_result"
    }
   ],
   "source": [
    "# Extract values recognized by BOT and usefull for our application # In labels column: 'acts': [{'args': [{'val': 'book'\n",
    "entry_id = 0 #Select data Frames raw by choosing entry_id\n",
    "\n",
    "interesting_entities_value = {} # We want to consolidate intersting variables for our BOT\n",
    "for dialog_step in [data['turns'][entry_id][:1]]: # We look into 2 first dialogs only\n",
    "    for dialog in dialog_step:\n",
    "        if dialog[\"author\"] == \"user\": # We catch only user dialog\n",
    "            acts = dialog[\"labels\"][\"acts\"] # We look into labels info from turns, and more precisely under \"act\" column (Exclusion of 'acts_without_refs')\n",
    "            for act in acts:\n",
    "                #name = act[\"name\"]\n",
    "                if act[\"args\"]:\n",
    "                    for arg in act[\"args\"]:\n",
    "                        if \"key\" in arg and \"val\" in arg: #info structure like: {'val': 'Atlantis', 'key': 'dst_city'},{'val': 'Caprica', 'key': 'or_city'}\n",
    "                            key = arg[\"key\"]\n",
    "                            val = arg[\"val\"]                                                  \n",
    "                        else:\n",
    "                            continue\n",
    "                        if key not in interesting_entities_value:\n",
    "                            interesting_entities_value[key] = [key]\n",
    "                        else:\n",
    "                            continue\n",
    "                        interesting_entities_value[key].append(val)\n",
    "                #interesting_entities[key].append(name)\n",
    "interesting_entities_value"
   ]
  },
  {
   "cell_type": "code",
   "execution_count": 174,
   "metadata": {},
   "outputs": [],
   "source": [
    "def extract_entities(acts):\n",
    "    dst_city = None\n",
    "    or_city = None\n",
    "    str_date = None\n",
    "    end_date = None\n",
    "    budget = None\n",
    "    intent = None\n",
    "    greeting = None\n",
    "    for act in acts:\n",
    "        name = act['name']     \n",
    "        args = act['args']\n",
    "        if len(args) == 0:\n",
    "            if name == \"greeting\":\n",
    "                greeting = \"Greeting\"\n",
    "            else:\n",
    "                break\n",
    "        for entity in args:\n",
    "            if 'dst_city' in entity.values() and 'val' in entity.keys():\n",
    "                dst_city =  entity['val']\n",
    "            if 'or_city' in entity.values() and 'val' in entity.keys():\n",
    "                or_city =  entity['val']\n",
    "            if 'str_date' in entity.values() and 'val' in entity.keys():\n",
    "                str_date =  entity['val']\n",
    "            if 'end_date' in entity.values() and 'val' in entity.keys():\n",
    "                end_date =  entity['val']\n",
    "            if 'budget' in entity.values() and 'val' in entity.keys():\n",
    "                budget =  entity['val']\n",
    "            if 'intent' in entity.values() and 'val' in entity.keys():\n",
    "                intent = entity['val']\n",
    "               \n",
    "    return or_city, dst_city, str_date, end_date, budget, intent, greeting #, n_adults, n_children, seat"
   ]
  },
  {
   "cell_type": "code",
   "execution_count": 171,
   "metadata": {},
   "outputs": [],
   "source": [
    "def convert_to_luis_portail_json(range_ids = range(len(data)), include_greeting=False):\n",
    "    json_luis_labels={'text':'text', 'intent':'intent', 'entities':'entities', 'startPos':'startPos', 'endPos':'endPos', 'entity':'entity'}\n",
    "    json_luis = []\n",
    "    for entry_id in range_ids:\n",
    "        # We will use only the first sentence of the dialog --> [0]\n",
    "        text = data['turns'][entry_id][0]['text']\n",
    "        acts = data['turns'][entry_id][0]['labels']['acts']\n",
    "        or_city, dst_city, str_date, end_date, budget, intent, greeting = extract_entities(acts) #, n_adults, n_children, seat\n",
    "\n",
    "        if ((intent == \"book\") or (or_city) or (dst_city)):  \n",
    "            intent = \"Book flight\"\n",
    "        elif include_greeting==True: #Check if greeting bool from function launch\n",
    "            if greeting:\n",
    "                intent = greeting\n",
    "            else:\n",
    "                continue\n",
    "        else:\n",
    "            continue\n",
    "        entry_dict = {}\n",
    "        entry_dict[json_luis_labels['text']] = text\n",
    "        entry_dict[json_luis_labels['intent']] = intent\n",
    "        \n",
    "        entities = []\n",
    "        for entity_key, entity_value in zip([\"From\", \"To\", \"str_date\", \"end_date\", \"budget\"], [or_city, dst_city, str_date, end_date, budget]) :\n",
    "        #for k, v in zip([\"From\", \"To\", \"str_date\", \"end_date\", \"budget\", \"n_adults\", \"n_children\", \"seat\"], [or_city, dst_city, str_date, end_date, budget, n_adults, n_children, seat]) :\n",
    "            if entity_value is None or entity_value == -1 or entity_value == str(-1): #Skip if no entity value or = -1 (e.g. greeting)\n",
    "                continue\n",
    "            if entity_key == \"budget\": #Remove currency and associated space characters\n",
    "                for currency in [\"$\", \"usd\", \"dollar\", \"dollars\", \"€\", \"euro\", \"euros\", \"£\", \"pound\", \"pounds\", \" \"]:\n",
    "                    entity_value = entity_value.lower().replace(currency,\"\")\n",
    "            try:   \n",
    "                # entity_value = re.sub('[^A-Za-z0-9 ]+', '', entity_value) #Avoid regex :Remove all special characters from string\n",
    "                # entity_value = re.sub(u\"(\\u2018|\\u2019|\\u2026)\", \"'\", entity_value.lower()) #Avoid Unicode :Remove all special characters from string\n",
    "                entity_value = re.escape(entity_value) #Avoid regex : Return string with all non-alphanumerics backslashed e.g. \"!#$%&'*+-.^_`|~:\" ; \n",
    "                match=(re.search(entity_value.lower(), text.lower())) #Find where characters match (positions)\n",
    "                entity = { #Create JSON for LUIS compatibility\n",
    "                            json_luis_labels[\"entity\"]:entity_key, \n",
    "                            json_luis_labels[\"startPos\"]:match.start(), \n",
    "                            json_luis_labels[\"endPos\"]:match.end() -1\n",
    "                            } \n",
    "                entities.append(entity)\n",
    "            except AttributeError:\n",
    "                continue\n",
    "        entry_dict[json_luis_labels['entities']] = entities\n",
    "\n",
    "        json_luis.append(entry_dict)\n",
    "    return json_luis"
   ]
  },
  {
   "cell_type": "code",
   "execution_count": 172,
   "metadata": {},
   "outputs": [],
   "source": [
    "def convert_to_luis_cli_json(range_ids = range(len(data)), include_greeting=False):\n",
    "    json_luis_labels={'text':'text', 'intent':'intentName', 'entities':'entityLabels', 'startPos':'startCharIndex', 'endPos':'endCharIndex', 'entity':'entityName'}\n",
    "    json_luis = []\n",
    "    for entry_id in range_ids:\n",
    "        # We will use only the first sentence of the dialog --> [0]\n",
    "        text = data['turns'][entry_id][0]['text']\n",
    "        acts = data['turns'][entry_id][0]['labels']['acts']\n",
    "        or_city, dst_city, str_date, end_date, budget, intent, greeting = extract_entities(acts) #, n_adults, n_children, seat\n",
    "\n",
    "        if ((intent == \"book\") or (or_city) or (dst_city)):  \n",
    "            intent = \"Book flight\"\n",
    "        elif include_greeting==True: #Check if greeting bool from function launch\n",
    "            if greeting:\n",
    "                intent = greeting\n",
    "            else:\n",
    "                continue\n",
    "        else:\n",
    "            continue\n",
    "        entry_dict = {}\n",
    "        entry_dict[json_luis_labels['text']] = text\n",
    "        entry_dict[json_luis_labels['intent']] = intent\n",
    "        \n",
    "        entities = []\n",
    "        for entity_key, entity_value in zip([\"From\", \"To\", \"str_date\", \"end_date\", \"budget\"], [or_city, dst_city, str_date, end_date, budget]) :\n",
    "        #for k, v in zip([\"From\", \"To\", \"str_date\", \"end_date\", \"budget\", \"n_adults\", \"n_children\", \"seat\"], [or_city, dst_city, str_date, end_date, budget, n_adults, n_children, seat]) :\n",
    "            if entity_value is None or entity_value == -1 or entity_value == str(-1): #Skip if no entity value or = -1 (e.g. greeting)\n",
    "                continue\n",
    "            if entity_key == \"budget\": #Remove currency and associated space characters\n",
    "                for currency in [\"$\", \"usd\", \"dollar\", \"dollars\", \"€\", \"euro\", \"euros\", \"£\", \"pound\", \"pounds\", \" \"]:\n",
    "                    entity_value = entity_value.lower().replace(currency,\"\")\n",
    "            try:   \n",
    "                # entity_value = re.sub('[^A-Za-z0-9 ]+', '', entity_value) #Avoid regex :Remove all special characters from string\n",
    "                # entity_value = re.sub(u\"(\\u2018|\\u2019|\\u2026)\", \"'\", entity_value.lower()) #Avoid Unicode :Remove all special characters from string\n",
    "                entity_value = re.escape(entity_value) #Avoid regex : Return string with all non-alphanumerics backslashed e.g. \"!#$%&'*+-.^_`|~:\" ; \n",
    "                match=(re.search(entity_value.lower(), text.lower())) #Find where characters match (positions)\n",
    "                entity = { #Create JSON for LUIS compatibility\n",
    "                            json_luis_labels[\"entity\"]:entity_key, \n",
    "                            json_luis_labels[\"startPos\"]:match.start(), \n",
    "                            json_luis_labels[\"endPos\"]:match.end() -1\n",
    "                            } \n",
    "                entities.append(entity)\n",
    "            except AttributeError:\n",
    "                continue\n",
    "        entry_dict[json_luis_labels['entities']] = entities\n",
    "\n",
    "        json_luis.append(entry_dict)\n",
    "    return json_luis"
   ]
  },
  {
   "cell_type": "code",
   "execution_count": 175,
   "metadata": {},
   "outputs": [
    {
     "name": "stdout",
     "output_type": "stream",
     "text": [
      "[\n",
      "  {\n",
      "    \"text\": \"I'd like to book a trip to Atlantis from Caprica on Saturday, August 13, 2016 for 8 adults. I have a tight budget of 1700.\",\n",
      "    \"intent\": \"Book flight\",\n",
      "    \"entities\": [\n",
      "      {\n",
      "        \"entity\": \"From\",\n",
      "        \"startPos\": 41,\n",
      "        \"endPos\": 47\n",
      "      },\n",
      "      {\n",
      "        \"entity\": \"To\",\n",
      "        \"startPos\": 27,\n",
      "        \"endPos\": 34\n",
      "      },\n",
      "      {\n",
      "        \"entity\": \"str_date\",\n",
      "        \"startPos\": 52,\n",
      "        \"endPos\": 76\n",
      "      },\n",
      "      {\n",
      "        \"entity\": \"budget\",\n",
      "        \"startPos\": 117,\n",
      "        \"endPos\": 120\n",
      "      }\n",
      "    ]\n",
      "  }\n",
      "]\n"
     ]
    }
   ],
   "source": [
    "#Let's try how the conversion to Json compatible with LUIS works\n",
    "#xxx = convert_to_luis_json(range(0,900), include_greeting=False)\n",
    "xxx = convert_to_luis_portail_json(range(0,1), include_greeting=True)  #range(len(data)) for full dataset\n",
    "print(json.dumps(xxx, indent=2))"
   ]
  },
  {
   "cell_type": "markdown",
   "metadata": {},
   "source": [
    "## Sauvegarde des données"
   ]
  },
  {
   "cell_type": "markdown",
   "metadata": {},
   "source": [
    "### Split du fichier JSON en Train / Test, et sauvegarde JSON\n",
    "\n",
    "Maintenant que nous savons récuperer les informations du fichier Frames.json, afin de le rendre compatible avec les services LUIS.\n",
    "Nous allons procéder  l'extraction des informations, et leur sauvegarde:\n",
    "- Intentions avec des exemples d’énoncés (Book_flight)\n",
    "- [Entités](https://learn.microsoft.com/fr-fr/azure/cognitive-services/luis/luis-concept-entity-types) (éléments de données extraits de l’énoncé, ex: destination, la date, la catégorie de ticket et la classe de voyage, le nombre de voyageurs)\n",
    "\n",
    "Nous modifierons le fichier FlightBooking.json en agissant sur la partie **utterances**, afin d'utiliser les information extraites de notre **jeu de données Frames.json**."
   ]
  },
  {
   "cell_type": "code",
   "execution_count": 35,
   "metadata": {},
   "outputs": [
    {
     "name": "stdout",
     "output_type": "stream",
     "text": [
      "Train dataset size is 1232\n",
      "Validation dataset size is 137\n"
     ]
    }
   ],
   "source": [
    "train_size = round(data.shape[0] * 0.9)\n",
    "print(f\"Train dataset size is {train_size}\")\n",
    "valid_size = data.shape[0] - train_size\n",
    "print(f\"Validation dataset size is {valid_size}\")\n",
    "train_json = convert_to_luis_portail_json(range(0,train_size), include_greeting=True)\n",
    "train_cli_json = convert_to_luis_cli_json(range(0,train_size), include_greeting=True)\n",
    "valid_json = convert_to_luis_portail_json(range(train_size, train_size+valid_size), include_greeting=True)\n",
    "valid_cli_json = convert_to_luis_cli_json(range(train_size, train_size+valid_size), include_greeting=True)\n",
    "\n",
    "#\n",
    "with open('dataset/train.json', 'w') as file:\n",
    "    json.dump(train_cli_json, file) #Use the CLI format (entityName, ...) to train Luis feeding batch data\n",
    "    \n",
    "with open('dataset/valid.json', 'w') as file:\n",
    "    json.dump(valid_json, file) #Use the portail format (entityName, ...) to predict Luis using batch data\n",
    "    \n",
    "    #json.dump(valid_json, file, indent=2)"
   ]
  },
  {
   "cell_type": "code",
   "execution_count": 31,
   "metadata": {},
   "outputs": [],
   "source": [
    "train_sample_json = convert_to_luis_cli_json(range(0,10), include_greeting=True)\n",
    "with open('dataset/train_sample.json', 'w') as file:\n",
    "    json.dump(train_sample_json, file)"
   ]
  },
  {
   "cell_type": "markdown",
   "metadata": {},
   "source": [
    "#### Ajout des données d'entrainement au fichier FlightBooking.json\n"
   ]
  },
  {
   "cell_type": "code",
   "execution_count": 19,
   "metadata": {},
   "outputs": [],
   "source": [
    "#OK : starting from template1 FlightBooking created manually (From To Budget str_date end_date)\n",
    "with open('dataset/FlightBooking_template7.json', 'r') as file:\n",
    "    luis_config = json.load(file)\n",
    "\n",
    "luis_config['utterances'] = train_json #valid_json\n",
    "#print(json.dumps(luis_config, indent=2))\n",
    "\n",
    "with open('dataset/FlightBooking_modified7.json', 'w') as file:\n",
    "    json.dump(luis_config, file, indent=1)"
   ]
  },
  {
   "cell_type": "markdown",
   "metadata": {},
   "source": [
    "# Conclusions\n",
    "\n",
    "Au travers de ce notebook, nous avons étudié notre jeu de données **Frames.json**, afin d'en extraire les informations nécessaires à l'entrainement de notre BOT, qui fonctionnera gràce au service d'Azure cognitifs services LUIS.\n",
    "\n",
    "Le fichier d'entrainement ci-dessus sera utilisé afin d'entrainer nos services Azure, et exploiter au mieux les futures réponses de nos clients."
   ]
  },
  {
   "cell_type": "markdown",
   "metadata": {},
   "source": [
    "# Analyse des resultats suivant la génération des scripts LUIS\n",
    "\n",
    "Dans le cadre du projet, nous avons également préparé les scripts permettant d'automatiser les phases de:\n",
    "- Création de LUIS (cognitive services)\n",
    "- Entrainement de LUIS (sur la base du jeu de données train.json)\n",
    "- Publication de LUIS\n",
    "- Test des performances (sur la base du jeu de données valid.json)\n",
    "> Ces scriots sont stockés dans le sous dossier \"luis/\"\n",
    "\n",
    "Une fois les tests réalisés, nous avons stockés les résultats dans un fichier json.\n",
    "Nous démontrons très succintement ci-dessous les résultats obtenus.\n",
    "\n"
   ]
  },
  {
   "cell_type": "code",
   "execution_count": 4,
   "metadata": {},
   "outputs": [
    {
     "name": "stdout",
     "output_type": "stream",
     "text": [
      "c:\\Users\\blanc\\OpenClassrooms\\IA_Project10_Openclassrooms_Chatbot\\luis\\results\n",
      "|_ fScore_performance.png\n",
      "|_ luis_batch_testing_results.json\n",
      "|_ precision_performance.png\n",
      "|_ recall_performance.png\n"
     ]
    }
   ],
   "source": [
    "src_path = os.path.abspath(os.path.join(\"../IA_Project10_Openclassrooms_Chatbot\"))\n",
    "if src_path not in sys.path:\n",
    "    sys.path.append(src_path)\n",
    "\n",
    "#Build Data path\n",
    "result_path = os.path.join(src_path, \"luis\", \"results\")\n",
    "print(result_path)\n",
    "for f in os.listdir(result_path):\n",
    "    print(\"|_\",f)"
   ]
  },
  {
   "cell_type": "code",
   "execution_count": 5,
   "metadata": {},
   "outputs": [],
   "source": [
    "with open(os.path.join(result_path, \"luis_batch_testing_results.json\"), 'r') as file:\n",
    "    luis_batch_testing_results = json.load(file)"
   ]
  },
  {
   "cell_type": "code",
   "execution_count": 89,
   "metadata": {},
   "outputs": [
    {
     "data": {
      "text/html": [
       "<div>\n",
       "<style scoped>\n",
       "    .dataframe tbody tr th:only-of-type {\n",
       "        vertical-align: middle;\n",
       "    }\n",
       "\n",
       "    .dataframe tbody tr th {\n",
       "        vertical-align: top;\n",
       "    }\n",
       "\n",
       "    .dataframe thead th {\n",
       "        text-align: right;\n",
       "    }\n",
       "</style>\n",
       "<table border=\"1\" class=\"dataframe\">\n",
       "  <thead>\n",
       "    <tr style=\"text-align: right;\">\n",
       "      <th></th>\n",
       "      <th>modelName</th>\n",
       "      <th>modelType</th>\n",
       "      <th>precision</th>\n",
       "      <th>recall</th>\n",
       "      <th>fScore</th>\n",
       "    </tr>\n",
       "  </thead>\n",
       "  <tbody>\n",
       "    <tr>\n",
       "      <th>0</th>\n",
       "      <td>Book flight</td>\n",
       "      <td>Intent Classifier</td>\n",
       "      <td>0.99</td>\n",
       "      <td>1.00</td>\n",
       "      <td>1.00</td>\n",
       "    </tr>\n",
       "    <tr>\n",
       "      <th>1</th>\n",
       "      <td>Greeting</td>\n",
       "      <td>Intent Classifier</td>\n",
       "      <td>1.00</td>\n",
       "      <td>0.50</td>\n",
       "      <td>0.67</td>\n",
       "    </tr>\n",
       "    <tr>\n",
       "      <th>2</th>\n",
       "      <td>None</td>\n",
       "      <td>Intent Classifier</td>\n",
       "      <td>NaN</td>\n",
       "      <td>NaN</td>\n",
       "      <td>NaN</td>\n",
       "    </tr>\n",
       "    <tr>\n",
       "      <th>0</th>\n",
       "      <td>budget</td>\n",
       "      <td>Entity Extractor</td>\n",
       "      <td>1.00</td>\n",
       "      <td>1.00</td>\n",
       "      <td>1.00</td>\n",
       "    </tr>\n",
       "    <tr>\n",
       "      <th>1</th>\n",
       "      <td>end_date</td>\n",
       "      <td>Entity Extractor</td>\n",
       "      <td>0.85</td>\n",
       "      <td>0.97</td>\n",
       "      <td>0.91</td>\n",
       "    </tr>\n",
       "    <tr>\n",
       "      <th>2</th>\n",
       "      <td>From</td>\n",
       "      <td>Entity Extractor</td>\n",
       "      <td>0.97</td>\n",
       "      <td>0.96</td>\n",
       "      <td>0.97</td>\n",
       "    </tr>\n",
       "    <tr>\n",
       "      <th>3</th>\n",
       "      <td>str_date</td>\n",
       "      <td>Entity Extractor</td>\n",
       "      <td>0.73</td>\n",
       "      <td>0.86</td>\n",
       "      <td>0.79</td>\n",
       "    </tr>\n",
       "    <tr>\n",
       "      <th>4</th>\n",
       "      <td>To</td>\n",
       "      <td>Entity Extractor</td>\n",
       "      <td>0.94</td>\n",
       "      <td>0.98</td>\n",
       "      <td>0.96</td>\n",
       "    </tr>\n",
       "  </tbody>\n",
       "</table>\n",
       "</div>"
      ],
      "text/plain": [
       "     modelName          modelType  precision  recall  fScore\n",
       "0  Book flight  Intent Classifier       0.99    1.00    1.00\n",
       "1     Greeting  Intent Classifier       1.00    0.50    0.67\n",
       "2         None  Intent Classifier        NaN     NaN     NaN\n",
       "0       budget   Entity Extractor       1.00    1.00    1.00\n",
       "1     end_date   Entity Extractor       0.85    0.97    0.91\n",
       "2         From   Entity Extractor       0.97    0.96    0.97\n",
       "3     str_date   Entity Extractor       0.73    0.86    0.79\n",
       "4           To   Entity Extractor       0.94    0.98    0.96"
      ]
     },
     "execution_count": 89,
     "metadata": {},
     "output_type": "execute_result"
    }
   ],
   "source": [
    "#performance_luis_model = pd.json_normalize(luis_batch_testing_results[\"intentModelsStats\"])\n",
    "performance_luis_model = pd.concat([pd.json_normalize(luis_batch_testing_results[\"intentModelsStats\"]), pd.json_normalize(luis_batch_testing_results[\"entityModelsStats\"])], axis=0, join='inner')\n",
    "performance_luis_model = performance_luis_model.loc[:, [\"modelName\", \"modelType\", \"precision\", \"recall\", \"fScore\"]]\n",
    "performance_luis_model[\"precision\"] = performance_luis_model[\"precision\"].astype(float)\n",
    "performance_luis_model[\"recall\"] = performance_luis_model[\"recall\"].astype(float)\n",
    "performance_luis_model[\"fScore\"] = performance_luis_model[\"fScore\"].astype(float)\n",
    "performance_luis_model"
   ]
  },
  {
   "cell_type": "code",
   "execution_count": 95,
   "metadata": {},
   "outputs": [
    {
     "data": {
      "image/png": "[encoded data removed]",
      "text/plain": [
       "<Figure size 800x500 with 1 Axes>"
      ]
     },
     "metadata": {},
     "output_type": "display_data"
    }
   ],
   "source": [
    "#Définir la taille du graphique\n",
    "fig, ax = plt.subplots(figsize=(8,5))\n",
    "#Définir lae type du graphique, ici BARPLOT avec en Labels l'index du nom des libelle\n",
    "ax = sns.barplot(data=performance_luis_model, x=\"modelName\", y=\"precision\", hue=\"modelType\")\n",
    "plt.title(f\"Precision of Intent recognition by LUIS model\")\n",
    "#Afficher le graphique\n",
    "plt.show()"
   ]
  },
  {
   "cell_type": "code",
   "execution_count": 97,
   "metadata": {},
   "outputs": [
    {
     "data": {
      "image/png": "[encoded data removed]",
      "text/plain": [
       "<Figure size 800x500 with 1 Axes>"
      ]
     },
     "metadata": {},
     "output_type": "display_data"
    }
   ],
   "source": [
    "#Définir la taille du graphique\n",
    "fig, ax = plt.subplots(figsize=(8,5))\n",
    "#Définir lae type du graphique, ici BARPLOT avec en Labels l'index du nom des libelle\n",
    "ax = sns.barplot(data=performance_luis_model, x=\"modelName\", y=\"recall\", hue=\"modelType\")\n",
    "plt.title(f\"Recall of Intent recognition by LUIS model\")\n",
    "#Afficher le graphique\n",
    "plt.show()"
   ]
  },
  {
   "cell_type": "code",
   "execution_count": 96,
   "metadata": {},
   "outputs": [
    {
     "data": {
      "image/png": "[encoded data removed]",
      "text/plain": [
       "<Figure size 800x500 with 1 Axes>"
      ]
     },
     "metadata": {},
     "output_type": "display_data"
    }
   ],
   "source": [
    "#Définir la taille du graphique\n",
    "fig, ax = plt.subplots(figsize=(8,5))\n",
    "#Définir lae type du graphique, ici BARPLOT avec en Labels l'index du nom des libelle\n",
    "ax = sns.barplot(data=performance_luis_model, x=\"modelName\", y=\"fScore\", hue=\"modelType\")\n",
    "plt.title(f\"fScore of Intent recognition by LUIS model\")\n",
    "#Afficher le graphique\n",
    "plt.show()"
   ]
  },
  {
   "cell_type": "code",
   "execution_count": 13,
   "metadata": {},
   "outputs": [
    {
     "name": "stdout",
     "output_type": "stream",
     "text": [
      "{'modelName': 'Book flight', 'modelType': 'Intent Classifier', 'precision': 0.99, 'recall': 1.0, 'fScore': 1.0}\n",
      "{'modelName': 'Greeting', 'modelType': 'Intent Classifier', 'precision': 1.0, 'recall': 0.5, 'fScore': 0.67}\n",
      "{'modelName': 'None', 'modelType': 'Intent Classifier', 'precision': 'NaN', 'recall': 'NaN', 'fScore': 'NaN'}\n"
     ]
    }
   ],
   "source": [
    "for i in range(len(luis_batch_testing_results[\"intentModelsStats\"])):\n",
    "    print(luis_batch_testing_results[\"intentModelsStats\"][i])"
   ]
  },
  {
   "cell_type": "code",
   "execution_count": 21,
   "metadata": {},
   "outputs": [
    {
     "name": "stdout",
     "output_type": "stream",
     "text": [
      "{'modelName': 'budget', 'modelType': 'Entity Extractor', 'precision': 1.0, 'recall': 1.0, 'fScore': 1.0}\n",
      "{'modelName': 'end_date', 'modelType': 'Entity Extractor', 'precision': 0.79, 'recall': 0.96, 'fScore': 0.87}\n",
      "{'modelName': 'From', 'modelType': 'Entity Extractor', 'precision': 0.97, 'recall': 0.96, 'fScore': 0.97}\n",
      "{'modelName': 'str_date', 'modelType': 'Entity Extractor', 'precision': 0.73, 'recall': 0.86, 'fScore': 0.79}\n",
      "{'modelName': 'To', 'modelType': 'Entity Extractor', 'precision': 0.94, 'recall': 0.98, 'fScore': 0.96}\n"
     ]
    }
   ],
   "source": [
    "for i in range(len(luis_batch_testing_results[\"entityModelsStats\"])):\n",
    "    print(luis_batch_testing_results[\"entityModelsStats\"][i])"
   ]
  },
  {
   "cell_type": "code",
   "execution_count": 135,
   "metadata": {},
   "outputs": [
    {
     "name": "stderr",
     "output_type": "stream",
     "text": [
      "C:\\Users\\blanc\\AppData\\Local\\Temp\\ipykernel_7124\\2020520497.py:9: SettingWithCopyWarning: \n",
      "A value is trying to be set on a copy of a slice from a DataFrame\n",
      "\n",
      "See the caveats in the documentation: https://pandas.pydata.org/pandas-docs/stable/user_guide/indexing.html#returning-a-view-versus-a-copy\n",
      "  performance_luis_model_utterances[\"falsePositive_check\"][i] = 1\n",
      "C:\\Users\\blanc\\AppData\\Local\\Temp\\ipykernel_7124\\2020520497.py:11: SettingWithCopyWarning: \n",
      "A value is trying to be set on a copy of a slice from a DataFrame\n",
      "\n",
      "See the caveats in the documentation: https://pandas.pydata.org/pandas-docs/stable/user_guide/indexing.html#returning-a-view-versus-a-copy\n",
      "  performance_luis_model_utterances[\"falseNegative_check\"][i] = 1\n"
     ]
    },
    {
     "data": {
      "text/html": [
       "<div>\n",
       "<style scoped>\n",
       "    .dataframe tbody tr th:only-of-type {\n",
       "        vertical-align: middle;\n",
       "    }\n",
       "\n",
       "    .dataframe tbody tr th {\n",
       "        vertical-align: top;\n",
       "    }\n",
       "\n",
       "    .dataframe thead th {\n",
       "        text-align: right;\n",
       "    }\n",
       "</style>\n",
       "<table border=\"1\" class=\"dataframe\">\n",
       "  <thead>\n",
       "    <tr style=\"text-align: right;\">\n",
       "      <th></th>\n",
       "      <th>text</th>\n",
       "      <th>predictedIntentName</th>\n",
       "      <th>labeledIntentName</th>\n",
       "      <th>falsePositiveEntities</th>\n",
       "      <th>falseNegativeEntities</th>\n",
       "      <th>intent_check</th>\n",
       "      <th>falsePositive_check</th>\n",
       "      <th>falseNegative_check</th>\n",
       "    </tr>\n",
       "  </thead>\n",
       "  <tbody>\n",
       "    <tr>\n",
       "      <th>0</th>\n",
       "      <td>Hi there, I really want to go to Osaka but don...</td>\n",
       "      <td>Book flight</td>\n",
       "      <td>Book flight</td>\n",
       "      <td>[{'entityName': 'To', 'startCharIndex': 205, '...</td>\n",
       "      <td>[{'entityName': 'To', 'startCharIndex': 33, 'e...</td>\n",
       "      <td>1.0</td>\n",
       "      <td>NaN</td>\n",
       "      <td>NaN</td>\n",
       "    </tr>\n",
       "    <tr>\n",
       "      <th>1</th>\n",
       "      <td>I want to go somewhere from toronto. ideally b...</td>\n",
       "      <td>Book flight</td>\n",
       "      <td>Book flight</td>\n",
       "      <td>[]</td>\n",
       "      <td>[{'entityName': 'str_date', 'startCharIndex': ...</td>\n",
       "      <td>1.0</td>\n",
       "      <td>1.0</td>\n",
       "      <td>NaN</td>\n",
       "    </tr>\n",
       "    <tr>\n",
       "      <th>2</th>\n",
       "      <td>I want to go to queenstown for 6 days</td>\n",
       "      <td>Book flight</td>\n",
       "      <td>Book flight</td>\n",
       "      <td>[]</td>\n",
       "      <td>[]</td>\n",
       "      <td>1.0</td>\n",
       "      <td>1.0</td>\n",
       "      <td>1.0</td>\n",
       "    </tr>\n",
       "    <tr>\n",
       "      <th>3</th>\n",
       "      <td>I would like to go to Ulsan from San Juan with...</td>\n",
       "      <td>Book flight</td>\n",
       "      <td>Book flight</td>\n",
       "      <td>[]</td>\n",
       "      <td>[]</td>\n",
       "      <td>1.0</td>\n",
       "      <td>1.0</td>\n",
       "      <td>1.0</td>\n",
       "    </tr>\n",
       "    <tr>\n",
       "      <th>4</th>\n",
       "      <td>Seattle it is!!</td>\n",
       "      <td>Book flight</td>\n",
       "      <td>Book flight</td>\n",
       "      <td>[]</td>\n",
       "      <td>[]</td>\n",
       "      <td>1.0</td>\n",
       "      <td>1.0</td>\n",
       "      <td>1.0</td>\n",
       "    </tr>\n",
       "    <tr>\n",
       "      <th>...</th>\n",
       "      <td>...</td>\n",
       "      <td>...</td>\n",
       "      <td>...</td>\n",
       "      <td>...</td>\n",
       "      <td>...</td>\n",
       "      <td>...</td>\n",
       "      <td>...</td>\n",
       "      <td>...</td>\n",
       "    </tr>\n",
       "    <tr>\n",
       "      <th>131</th>\n",
       "      <td>Hi I've got 9 days free and I'm looking for a ...</td>\n",
       "      <td>Book flight</td>\n",
       "      <td>Book flight</td>\n",
       "      <td>[]</td>\n",
       "      <td>[]</td>\n",
       "      <td>1.0</td>\n",
       "      <td>1.0</td>\n",
       "      <td>1.0</td>\n",
       "    </tr>\n",
       "    <tr>\n",
       "      <th>132</th>\n",
       "      <td>I need to get to Fortaleza on September 8th or...</td>\n",
       "      <td>Book flight</td>\n",
       "      <td>Book flight</td>\n",
       "      <td>[]</td>\n",
       "      <td>[]</td>\n",
       "      <td>1.0</td>\n",
       "      <td>1.0</td>\n",
       "      <td>1.0</td>\n",
       "    </tr>\n",
       "    <tr>\n",
       "      <th>133</th>\n",
       "      <td>We're finally going on vacation isn't that ama...</td>\n",
       "      <td>Book flight</td>\n",
       "      <td>Book flight</td>\n",
       "      <td>[]</td>\n",
       "      <td>[]</td>\n",
       "      <td>1.0</td>\n",
       "      <td>1.0</td>\n",
       "      <td>1.0</td>\n",
       "    </tr>\n",
       "    <tr>\n",
       "      <th>134</th>\n",
       "      <td>Hi there, I'm looking for a place to get away ...</td>\n",
       "      <td>Book flight</td>\n",
       "      <td>Book flight</td>\n",
       "      <td>[]</td>\n",
       "      <td>[]</td>\n",
       "      <td>1.0</td>\n",
       "      <td>1.0</td>\n",
       "      <td>1.0</td>\n",
       "    </tr>\n",
       "    <tr>\n",
       "      <th>135</th>\n",
       "      <td>I need to book a trip for the whole family fro...</td>\n",
       "      <td>Book flight</td>\n",
       "      <td>Book flight</td>\n",
       "      <td>[]</td>\n",
       "      <td>[]</td>\n",
       "      <td>1.0</td>\n",
       "      <td>1.0</td>\n",
       "      <td>1.0</td>\n",
       "    </tr>\n",
       "  </tbody>\n",
       "</table>\n",
       "<p>136 rows × 8 columns</p>\n",
       "</div>"
      ],
      "text/plain": [
       "                                                  text predictedIntentName  \\\n",
       "0    Hi there, I really want to go to Osaka but don...         Book flight   \n",
       "1    I want to go somewhere from toronto. ideally b...         Book flight   \n",
       "2                I want to go to queenstown for 6 days         Book flight   \n",
       "3    I would like to go to Ulsan from San Juan with...         Book flight   \n",
       "4                                      Seattle it is!!         Book flight   \n",
       "..                                                 ...                 ...   \n",
       "131  Hi I've got 9 days free and I'm looking for a ...         Book flight   \n",
       "132  I need to get to Fortaleza on September 8th or...         Book flight   \n",
       "133  We're finally going on vacation isn't that ama...         Book flight   \n",
       "134  Hi there, I'm looking for a place to get away ...         Book flight   \n",
       "135  I need to book a trip for the whole family fro...         Book flight   \n",
       "\n",
       "    labeledIntentName                              falsePositiveEntities  \\\n",
       "0         Book flight  [{'entityName': 'To', 'startCharIndex': 205, '...   \n",
       "1         Book flight                                                 []   \n",
       "2         Book flight                                                 []   \n",
       "3         Book flight                                                 []   \n",
       "4         Book flight                                                 []   \n",
       "..                ...                                                ...   \n",
       "131       Book flight                                                 []   \n",
       "132       Book flight                                                 []   \n",
       "133       Book flight                                                 []   \n",
       "134       Book flight                                                 []   \n",
       "135       Book flight                                                 []   \n",
       "\n",
       "                                 falseNegativeEntities  intent_check  \\\n",
       "0    [{'entityName': 'To', 'startCharIndex': 33, 'e...           1.0   \n",
       "1    [{'entityName': 'str_date', 'startCharIndex': ...           1.0   \n",
       "2                                                   []           1.0   \n",
       "3                                                   []           1.0   \n",
       "4                                                   []           1.0   \n",
       "..                                                 ...           ...   \n",
       "131                                                 []           1.0   \n",
       "132                                                 []           1.0   \n",
       "133                                                 []           1.0   \n",
       "134                                                 []           1.0   \n",
       "135                                                 []           1.0   \n",
       "\n",
       "     falsePositive_check  falseNegative_check  \n",
       "0                    NaN                  NaN  \n",
       "1                    1.0                  NaN  \n",
       "2                    1.0                  1.0  \n",
       "3                    1.0                  1.0  \n",
       "4                    1.0                  1.0  \n",
       "..                   ...                  ...  \n",
       "131                  1.0                  1.0  \n",
       "132                  1.0                  1.0  \n",
       "133                  1.0                  1.0  \n",
       "134                  1.0                  1.0  \n",
       "135                  1.0                  1.0  \n",
       "\n",
       "[136 rows x 8 columns]"
      ]
     },
     "execution_count": 135,
     "metadata": {},
     "output_type": "execute_result"
    }
   ],
   "source": [
    "performance_luis_model_utterances = pd.json_normalize(luis_batch_testing_results[\"utterancesStats\"])\n",
    "# Applying the intent check condition\n",
    "performance_luis_model_utterances[\"intent_check\"] = np.where(performance_luis_model_utterances['predictedIntentName'] == performance_luis_model_utterances['labeledIntentName'], 1, np.nan)\n",
    "performance_luis_model_utterances.insert(loc=6, column=\"falsePositive_check\", value=np.nan)\n",
    "performance_luis_model_utterances.insert(loc=7, column=\"falseNegative_check\", value=np.nan)\n",
    "\n",
    "for i in range(len(performance_luis_model_utterances)): #range(len(performance_luis_model_utterances)\n",
    "    if len(performance_luis_model_utterances['falsePositiveEntities'][i]) != 1:\n",
    "        performance_luis_model_utterances[\"falsePositive_check\"][i] = 1\n",
    "    if len(performance_luis_model_utterances['falseNegativeEntities'][i]) != 1:\n",
    "        performance_luis_model_utterances[\"falseNegative_check\"][i] = 1\n",
    "performance_luis_model_utterances\n",
    "performance_luis_model_utterances"
   ]
  },
  {
   "cell_type": "code",
   "execution_count": 126,
   "metadata": {},
   "outputs": [
    {
     "data": {
      "text/html": [
       "<div>\n",
       "<style scoped>\n",
       "    .dataframe tbody tr th:only-of-type {\n",
       "        vertical-align: middle;\n",
       "    }\n",
       "\n",
       "    .dataframe tbody tr th {\n",
       "        vertical-align: top;\n",
       "    }\n",
       "\n",
       "    .dataframe thead th {\n",
       "        text-align: right;\n",
       "    }\n",
       "</style>\n",
       "<table border=\"1\" class=\"dataframe\">\n",
       "  <thead>\n",
       "    <tr style=\"text-align: right;\">\n",
       "      <th></th>\n",
       "      <th>text</th>\n",
       "      <th>predictedIntentName</th>\n",
       "      <th>labeledIntentName</th>\n",
       "      <th>falsePositiveEntities</th>\n",
       "      <th>falseNegativeEntities</th>\n",
       "      <th>intent_check</th>\n",
       "      <th>falsePositive_check</th>\n",
       "      <th>falseNegative_check</th>\n",
       "    </tr>\n",
       "  </thead>\n",
       "  <tbody>\n",
       "    <tr>\n",
       "      <th>115</th>\n",
       "      <td>Hi! I am very excited!!!!</td>\n",
       "      <td>Book flight</td>\n",
       "      <td>Greeting</td>\n",
       "      <td>[]</td>\n",
       "      <td>[]</td>\n",
       "      <td>NaN</td>\n",
       "      <td>1.0</td>\n",
       "      <td>1.0</td>\n",
       "    </tr>\n",
       "  </tbody>\n",
       "</table>\n",
       "</div>"
      ],
      "text/plain": [
       "                          text predictedIntentName labeledIntentName  \\\n",
       "115  Hi! I am very excited!!!!         Book flight          Greeting   \n",
       "\n",
       "    falsePositiveEntities falseNegativeEntities  intent_check  \\\n",
       "115                    []                    []           NaN   \n",
       "\n",
       "     falsePositive_check  falseNegative_check  \n",
       "115                  1.0                  1.0  "
      ]
     },
     "execution_count": 126,
     "metadata": {},
     "output_type": "execute_result"
    }
   ],
   "source": [
    "#Exemple of wring intent detection by LUIS\n",
    "performance_luis_model_utterances.loc[performance_luis_model_utterances[\"intent_check\"].isna(), :]"
   ]
  },
  {
   "cell_type": "code",
   "execution_count": 165,
   "metadata": {},
   "outputs": [
    {
     "name": "stdout",
     "output_type": "stream",
     "text": [
      "Le taux d'intention correctement detectée est de = 99.26 %\n"
     ]
    }
   ],
   "source": [
    "intent_detection_efficiency = 100 - performance_luis_model_utterances[\"intent_check\"].isna().mean() * 100\n",
    "print(f\"Le taux d'intention correctement detectée par le modèle LUIS est de = {round(intent_detection_efficiency, 2)} %\")"
   ]
  },
  {
   "cell_type": "code",
   "execution_count": 167,
   "metadata": {},
   "outputs": [
    {
     "name": "stdout",
     "output_type": "stream",
     "text": [
      "Le taux d'entités detectées alors qu'elles n'auraient pas dû est de  = 8.82 %\n"
     ]
    }
   ],
   "source": [
    "entity_detection_efficiency = performance_luis_model_utterances[\"falsePositive_check\"].isna().mean() * 100\n",
    "print(f\"Le taux d'entités detectées par le modèle LUIS alors qu'elles n'auraient pas dû est de  = {round(entity_detection_efficiency, 2)} %\")"
   ]
  },
  {
   "cell_type": "code",
   "execution_count": 169,
   "metadata": {},
   "outputs": [
    {
     "name": "stdout",
     "output_type": "stream",
     "text": [
      "Le taux d'entités non detectées par le modèle LUIS comme nous aurions pu l'éspérer = 13.97 %\n"
     ]
    }
   ],
   "source": [
    "entity_detection_efficiency = performance_luis_model_utterances[\"falseNegative_check\"].isna().mean() * 100\n",
    "print(f\"Le taux d'entités non detectées par le modèle LUIS comme nous aurions pu l'éspérer = {round(entity_detection_efficiency, 2)} %\")"
   ]
  }
 ],
 "metadata": {
  "kernelspec": {
   "display_name": "Python 3.9.13 ('IA_Project10')",
   "language": "python",
   "name": "python3"
  },
  "language_info": {
   "codemirror_mode": {
    "name": "ipython",
    "version": 3
   },
   "file_extension": ".py",
   "mimetype": "text/x-python",
   "name": "python",
   "nbconvert_exporter": "python",
   "pygments_lexer": "ipython3",
   "version": "3.9.13"
  },
  "orig_nbformat": 4,
  "vscode": {
   "interpreter": {
    "hash": "28cdd87767194762c8704313e15061f36998a9182347a835d24f734e5c580b17"
   }
  }
 },
 "nbformat": 4,
 "nbformat_minor": 2
}
