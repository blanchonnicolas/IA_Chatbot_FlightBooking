{
 "cells": [
  {
   "cell_type": "code",
   "execution_count": 1,
   "metadata": {},
   "outputs": [
    {
     "name": "stdout",
     "output_type": "stream",
     "text": [
      "Functions have been properly imported !\n"
     ]
    }
   ],
   "source": [
    "#Import functions createdon my side\n",
    "from Functions_custo_by_Nico import *\n",
    "Test_Imported_Functions()\n"
   ]
  },
  {
   "cell_type": "code",
   "execution_count": 2,
   "metadata": {},
   "outputs": [
    {
     "name": "stdout",
     "output_type": "stream",
     "text": [
      "c:\\Users\\blanc\\OpenClassrooms\\IA_Project10_Openclassrooms_Chatbot\\dataset\n",
      "|_ .git\n",
      "|_ botbuilder\n",
      "|_ dataset\n",
      "|_ EDA.ipynb\n",
      "|_ FlyMe_BOT_MVP\n",
      "|_ Functions_custo_by_Nico.py\n",
      "|_ Sources\n",
      "|_ __pycache__\n"
     ]
    }
   ],
   "source": [
    "src_path = os.path.abspath(os.path.join(\"../IA_Project10_Openclassrooms_Chatbot\"))\n",
    "if src_path not in sys.path:\n",
    "    sys.path.append(src_path)\n",
    "\n",
    "#Build Data path\n",
    "data_path = os.path.join(src_path, \"dataset\")\n",
    "print(data_path)\n",
    "for f in os.listdir(src_path):\n",
    "    print(\"|_\",f)"
   ]
  },
  {
   "cell_type": "code",
   "execution_count": 3,
   "metadata": {},
   "outputs": [
    {
     "name": "stdout",
     "output_type": "stream",
     "text": [
      "Dimensionnalité :  (1369, 5)\n"
     ]
    },
    {
     "data": {
      "text/html": [
       "<div>\n",
       "<style scoped>\n",
       "    .dataframe tbody tr th:only-of-type {\n",
       "        vertical-align: middle;\n",
       "    }\n",
       "\n",
       "    .dataframe tbody tr th {\n",
       "        vertical-align: top;\n",
       "    }\n",
       "\n",
       "    .dataframe thead th {\n",
       "        text-align: right;\n",
       "    }\n",
       "</style>\n",
       "<table border=\"1\" class=\"dataframe\">\n",
       "  <thead>\n",
       "    <tr style=\"text-align: right;\">\n",
       "      <th></th>\n",
       "      <th>user_id</th>\n",
       "      <th>turns</th>\n",
       "      <th>wizard_id</th>\n",
       "      <th>id</th>\n",
       "      <th>labels</th>\n",
       "    </tr>\n",
       "  </thead>\n",
       "  <tbody>\n",
       "    <tr>\n",
       "      <th>0</th>\n",
       "      <td>U22HTHYNP</td>\n",
       "      <td>[{'text': 'I'd like to book a trip to Atlantis...</td>\n",
       "      <td>U21DKG18C</td>\n",
       "      <td>e2c0fc6c-2134-4891-8353-ef16d8412c9a</td>\n",
       "      <td>{'userSurveyRating': 4.0, 'wizardSurveyTaskSuc...</td>\n",
       "    </tr>\n",
       "    <tr>\n",
       "      <th>1</th>\n",
       "      <td>U21E41CQP</td>\n",
       "      <td>[{'text': 'Hello, I am looking to book a vacat...</td>\n",
       "      <td>U21DMV0KA</td>\n",
       "      <td>4a3bfa39-2c22-42c8-8694-32b4e34415e9</td>\n",
       "      <td>{'userSurveyRating': 3.0, 'wizardSurveyTaskSuc...</td>\n",
       "    </tr>\n",
       "    <tr>\n",
       "      <th>2</th>\n",
       "      <td>U21RP4FCY</td>\n",
       "      <td>[{'text': 'Hello there i am looking to go on a...</td>\n",
       "      <td>U21E0179B</td>\n",
       "      <td>6e67ed28-e94c-4fab-96b6-68569a92682f</td>\n",
       "      <td>{'userSurveyRating': 2.0, 'wizardSurveyTaskSuc...</td>\n",
       "    </tr>\n",
       "    <tr>\n",
       "      <th>3</th>\n",
       "      <td>U22HTHYNP</td>\n",
       "      <td>[{'text': 'Hi I'd like to go to Caprica from B...</td>\n",
       "      <td>U21DKG18C</td>\n",
       "      <td>5ae76e50-5b48-4166-9f6d-67aaabd7bcaa</td>\n",
       "      <td>{'userSurveyRating': 5.0, 'wizardSurveyTaskSuc...</td>\n",
       "    </tr>\n",
       "    <tr>\n",
       "      <th>4</th>\n",
       "      <td>U21E41CQP</td>\n",
       "      <td>[{'text': 'Hello, I am looking to book a trip ...</td>\n",
       "      <td>U21DMV0KA</td>\n",
       "      <td>24603086-bb53-431e-a0d8-1dcc63518ba9</td>\n",
       "      <td>{'userSurveyRating': 5.0, 'wizardSurveyTaskSuc...</td>\n",
       "    </tr>\n",
       "  </tbody>\n",
       "</table>\n",
       "</div>"
      ],
      "text/plain": [
       "     user_id                                              turns  wizard_id  \\\n",
       "0  U22HTHYNP  [{'text': 'I'd like to book a trip to Atlantis...  U21DKG18C   \n",
       "1  U21E41CQP  [{'text': 'Hello, I am looking to book a vacat...  U21DMV0KA   \n",
       "2  U21RP4FCY  [{'text': 'Hello there i am looking to go on a...  U21E0179B   \n",
       "3  U22HTHYNP  [{'text': 'Hi I'd like to go to Caprica from B...  U21DKG18C   \n",
       "4  U21E41CQP  [{'text': 'Hello, I am looking to book a trip ...  U21DMV0KA   \n",
       "\n",
       "                                     id  \\\n",
       "0  e2c0fc6c-2134-4891-8353-ef16d8412c9a   \n",
       "1  4a3bfa39-2c22-42c8-8694-32b4e34415e9   \n",
       "2  6e67ed28-e94c-4fab-96b6-68569a92682f   \n",
       "3  5ae76e50-5b48-4166-9f6d-67aaabd7bcaa   \n",
       "4  24603086-bb53-431e-a0d8-1dcc63518ba9   \n",
       "\n",
       "                                              labels  \n",
       "0  {'userSurveyRating': 4.0, 'wizardSurveyTaskSuc...  \n",
       "1  {'userSurveyRating': 3.0, 'wizardSurveyTaskSuc...  \n",
       "2  {'userSurveyRating': 2.0, 'wizardSurveyTaskSuc...  \n",
       "3  {'userSurveyRating': 5.0, 'wizardSurveyTaskSuc...  \n",
       "4  {'userSurveyRating': 5.0, 'wizardSurveyTaskSuc...  "
      ]
     },
     "execution_count": 3,
     "metadata": {},
     "output_type": "execute_result"
    }
   ],
   "source": [
    "#Read data\n",
    "data = pd.read_json(os.path.join(data_path, 'frames', 'frames.json'))\n",
    "print(\"Dimensionnalité : \", data.shape)\n",
    "data.head()"
   ]
  },
  {
   "cell_type": "code",
   "execution_count": 4,
   "metadata": {},
   "outputs": [
    {
     "data": {
      "text/html": [
       "<div>\n",
       "<style scoped>\n",
       "    .dataframe tbody tr th:only-of-type {\n",
       "        vertical-align: middle;\n",
       "    }\n",
       "\n",
       "    .dataframe tbody tr th {\n",
       "        vertical-align: top;\n",
       "    }\n",
       "\n",
       "    .dataframe thead th {\n",
       "        text-align: right;\n",
       "    }\n",
       "</style>\n",
       "<table border=\"1\" class=\"dataframe\">\n",
       "  <thead>\n",
       "    <tr style=\"text-align: right;\">\n",
       "      <th></th>\n",
       "      <th>user_id</th>\n",
       "      <th>turns</th>\n",
       "      <th>wizard_id</th>\n",
       "      <th>id</th>\n",
       "      <th>labels</th>\n",
       "    </tr>\n",
       "  </thead>\n",
       "  <tbody>\n",
       "    <tr>\n",
       "      <th>count</th>\n",
       "      <td>1369</td>\n",
       "      <td>1369</td>\n",
       "      <td>1369</td>\n",
       "      <td>1369</td>\n",
       "      <td>1369</td>\n",
       "    </tr>\n",
       "    <tr>\n",
       "      <th>unique</th>\n",
       "      <td>11</td>\n",
       "      <td>1369</td>\n",
       "      <td>12</td>\n",
       "      <td>1369</td>\n",
       "      <td>16</td>\n",
       "    </tr>\n",
       "    <tr>\n",
       "      <th>top</th>\n",
       "      <td>U22K1SX9N</td>\n",
       "      <td>[{'text': 'I'd like to book a trip to Atlantis...</td>\n",
       "      <td>U21T9NMKM</td>\n",
       "      <td>e2c0fc6c-2134-4891-8353-ef16d8412c9a</td>\n",
       "      <td>{'userSurveyRating': 5.0, 'wizardSurveyTaskSuc...</td>\n",
       "    </tr>\n",
       "    <tr>\n",
       "      <th>freq</th>\n",
       "      <td>345</td>\n",
       "      <td>1</td>\n",
       "      <td>301</td>\n",
       "      <td>1</td>\n",
       "      <td>929</td>\n",
       "    </tr>\n",
       "  </tbody>\n",
       "</table>\n",
       "</div>"
      ],
      "text/plain": [
       "          user_id                                              turns  \\\n",
       "count        1369                                               1369   \n",
       "unique         11                                               1369   \n",
       "top     U22K1SX9N  [{'text': 'I'd like to book a trip to Atlantis...   \n",
       "freq          345                                                  1   \n",
       "\n",
       "        wizard_id                                    id  \\\n",
       "count        1369                                  1369   \n",
       "unique         12                                  1369   \n",
       "top     U21T9NMKM  e2c0fc6c-2134-4891-8353-ef16d8412c9a   \n",
       "freq          301                                     1   \n",
       "\n",
       "                                                   labels  \n",
       "count                                                1369  \n",
       "unique                                                 16  \n",
       "top     {'userSurveyRating': 5.0, 'wizardSurveyTaskSuc...  \n",
       "freq                                                  929  "
      ]
     },
     "execution_count": 4,
     "metadata": {},
     "output_type": "execute_result"
    }
   ],
   "source": [
    "data.describe(include='all')\n"
   ]
  },
  {
   "cell_type": "markdown",
   "metadata": {},
   "source": [
    "#### Mise à plat des données\n",
    "\n",
    "Comme nous avons pu le voir ci-dessous, les données Frames sont au format JSON.\n",
    "CHaque dialogue BOT/User est constitué de **5 champs principaux: user_id, wizard_id, id, labels and turns**.\n",
    "[Plus dinfo ici](https://www.microsoft.com/en-us/research/project/frames-dataset/download/)\n",
    "\n",
    "Nous allons ci-dessous explorer les champs labels et turns, afin de comprendre leur structure respective"
   ]
  },
  {
   "cell_type": "code",
   "execution_count": 5,
   "metadata": {},
   "outputs": [
    {
     "name": "stdout",
     "output_type": "stream",
     "text": [
      "Il y a  82 dialogues qui ont rendu un effet négatif.\n"
     ]
    }
   ],
   "source": [
    "#Column Label : Segregate Json format and spread info in new dataframe columns\n",
    "satisfaction_data = pd.json_normalize(data[\"labels\"])\n",
    "data[\"userSurveyRating\"] = satisfaction_data[\"userSurveyRating\"]\n",
    "data[\"wizardSurveyTaskSuccessful\"] = satisfaction_data[\"wizardSurveyTaskSuccessful\"]\n",
    "print(\"Il y a \", data[data[\"wizardSurveyTaskSuccessful\"] == False].shape[0],\n",
    "      \"dialogues qui ont rendu un effet négatif.\")\n",
    "#data.describe(include='all')\n"
   ]
  },
  {
   "cell_type": "code",
   "execution_count": 6,
   "metadata": {},
   "outputs": [
    {
     "data": {
      "text/plain": [
       "array([4.  , 3.  , 2.  , 5.  , 1.  ,  nan, 4.8 , 4.5 , 4.99, 3.5 ])"
      ]
     },
     "execution_count": 6,
     "metadata": {},
     "output_type": "execute_result"
    }
   ],
   "source": [
    "# Cautious!!! Some values are not integer !!!\n",
    "data[\"userSurveyRating\"].unique()\n"
   ]
  },
  {
   "cell_type": "code",
   "execution_count": 28,
   "metadata": {},
   "outputs": [
    {
     "data": {
      "text/html": [
       "<div>\n",
       "<style scoped>\n",
       "    .dataframe tbody tr th:only-of-type {\n",
       "        vertical-align: middle;\n",
       "    }\n",
       "\n",
       "    .dataframe tbody tr th {\n",
       "        vertical-align: top;\n",
       "    }\n",
       "\n",
       "    .dataframe thead th {\n",
       "        text-align: right;\n",
       "    }\n",
       "</style>\n",
       "<table border=\"1\" class=\"dataframe\">\n",
       "  <thead>\n",
       "    <tr style=\"text-align: right;\">\n",
       "      <th></th>\n",
       "      <th>text</th>\n",
       "      <th>labels</th>\n",
       "      <th>author</th>\n",
       "      <th>timestamp</th>\n",
       "      <th>db</th>\n",
       "    </tr>\n",
       "  </thead>\n",
       "  <tbody>\n",
       "    <tr>\n",
       "      <th>0</th>\n",
       "      <td>I'd like to book a trip to Atlantis from Capri...</td>\n",
       "      <td>{'acts': [{'args': [{'val': 'book', 'key': 'in...</td>\n",
       "      <td>user</td>\n",
       "      <td>1.471272e+12</td>\n",
       "      <td>NaN</td>\n",
       "    </tr>\n",
       "    <tr>\n",
       "      <th>1</th>\n",
       "      <td>Hi...I checked a few options for you, and unfo...</td>\n",
       "      <td>{'acts': [{'args': [{'val': [{'annotations': [...</td>\n",
       "      <td>wizard</td>\n",
       "      <td>1.471272e+12</td>\n",
       "      <td>{'result': [[{'trip': {'returning': {'duration...</td>\n",
       "    </tr>\n",
       "    <tr>\n",
       "      <th>2</th>\n",
       "      <td>Yes, how about going to Neverland from Caprica...</td>\n",
       "      <td>{'acts': [{'args': [{'val': 'Neverland', 'key'...</td>\n",
       "      <td>user</td>\n",
       "      <td>1.471273e+12</td>\n",
       "      <td>NaN</td>\n",
       "    </tr>\n",
       "    <tr>\n",
       "      <th>3</th>\n",
       "      <td>I checked the availability for this date and t...</td>\n",
       "      <td>{'acts': [{'args': [{'val': [{'annotations': [...</td>\n",
       "      <td>wizard</td>\n",
       "      <td>1.471273e+12</td>\n",
       "      <td>{'result': [[], [], [], [], [], []], 'search':...</td>\n",
       "    </tr>\n",
       "    <tr>\n",
       "      <th>4</th>\n",
       "      <td>I have no flexibility for dates... but I can l...</td>\n",
       "      <td>{'acts': [{'args': [{'val': False, 'key': 'fle...</td>\n",
       "      <td>user</td>\n",
       "      <td>1.471273e+12</td>\n",
       "      <td>NaN</td>\n",
       "    </tr>\n",
       "    <tr>\n",
       "      <th>5</th>\n",
       "      <td>I checked the availability for that date and t...</td>\n",
       "      <td>{'acts': [{'args': [{'val': [{'annotations': [...</td>\n",
       "      <td>wizard</td>\n",
       "      <td>1.471273e+12</td>\n",
       "      <td>{'result': [[]], 'search': [{'ORIGIN_CITY': 'A...</td>\n",
       "    </tr>\n",
       "    <tr>\n",
       "      <th>6</th>\n",
       "      <td>I suppose I'll speak with my husband to see if...</td>\n",
       "      <td>{'acts': [{'args': [], 'name': 'thankyou'}], '...</td>\n",
       "      <td>user</td>\n",
       "      <td>1.471273e+12</td>\n",
       "      <td>NaN</td>\n",
       "    </tr>\n",
       "  </tbody>\n",
       "</table>\n",
       "</div>"
      ],
      "text/plain": [
       "                                                text  \\\n",
       "0  I'd like to book a trip to Atlantis from Capri...   \n",
       "1  Hi...I checked a few options for you, and unfo...   \n",
       "2  Yes, how about going to Neverland from Caprica...   \n",
       "3  I checked the availability for this date and t...   \n",
       "4  I have no flexibility for dates... but I can l...   \n",
       "5  I checked the availability for that date and t...   \n",
       "6  I suppose I'll speak with my husband to see if...   \n",
       "\n",
       "                                              labels  author     timestamp  \\\n",
       "0  {'acts': [{'args': [{'val': 'book', 'key': 'in...    user  1.471272e+12   \n",
       "1  {'acts': [{'args': [{'val': [{'annotations': [...  wizard  1.471272e+12   \n",
       "2  {'acts': [{'args': [{'val': 'Neverland', 'key'...    user  1.471273e+12   \n",
       "3  {'acts': [{'args': [{'val': [{'annotations': [...  wizard  1.471273e+12   \n",
       "4  {'acts': [{'args': [{'val': False, 'key': 'fle...    user  1.471273e+12   \n",
       "5  {'acts': [{'args': [{'val': [{'annotations': [...  wizard  1.471273e+12   \n",
       "6  {'acts': [{'args': [], 'name': 'thankyou'}], '...    user  1.471273e+12   \n",
       "\n",
       "                                                  db  \n",
       "0                                                NaN  \n",
       "1  {'result': [[{'trip': {'returning': {'duration...  \n",
       "2                                                NaN  \n",
       "3  {'result': [[], [], [], [], [], []], 'search':...  \n",
       "4                                                NaN  \n",
       "5  {'result': [[]], 'search': [{'ORIGIN_CITY': 'A...  \n",
       "6                                                NaN  "
      ]
     },
     "execution_count": 28,
     "metadata": {},
     "output_type": "execute_result"
    }
   ],
   "source": [
    "#Column turns : Segregate Json format and spread info in new dataframe columns\n",
    "entry_id = 0\n",
    "data_turns = pd.DataFrame(data['turns'][entry_id])\n",
    "data_turns"
   ]
  },
  {
   "cell_type": "code",
   "execution_count": 42,
   "metadata": {},
   "outputs": [
    {
     "data": {
      "text/plain": [
       "{'text': \"I'd like to book a trip to Atlantis from Caprica on Saturday, August 13, 2016 for 8 adults. I have a tight budget of 1700.\",\n",
       " 'labels': {'acts': [{'args': [{'val': 'book', 'key': 'intent'}],\n",
       "    'name': 'inform'},\n",
       "   {'args': [{'val': 'Atlantis', 'key': 'dst_city'},\n",
       "     {'val': 'Caprica', 'key': 'or_city'},\n",
       "     {'val': 'Saturday, August 13, 2016', 'key': 'str_date'},\n",
       "     {'val': '8', 'key': 'n_adults'},\n",
       "     {'val': '1700', 'key': 'budget'}],\n",
       "    'name': 'inform'}],\n",
       "  'acts_without_refs': [{'args': [{'val': 'book', 'key': 'intent'}],\n",
       "    'name': 'inform'},\n",
       "   {'args': [{'val': 'Atlantis', 'key': 'dst_city'},\n",
       "     {'val': 'Caprica', 'key': 'or_city'},\n",
       "     {'val': 'Saturday, August 13, 2016', 'key': 'str_date'},\n",
       "     {'val': '8', 'key': 'n_adults'},\n",
       "     {'val': '1700', 'key': 'budget'}],\n",
       "    'name': 'inform'}],\n",
       "  'active_frame': 1,\n",
       "  'frames': [{'info': {'intent': [{'val': 'book', 'negated': False}],\n",
       "     'budget': [{'val': '1700.0', 'negated': False}],\n",
       "     'dst_city': [{'val': 'Atlantis', 'negated': False}],\n",
       "     'or_city': [{'val': 'Caprica', 'negated': False}],\n",
       "     'str_date': [{'val': 'august 13', 'negated': False}],\n",
       "     'n_adults': [{'val': '8', 'negated': False}]},\n",
       "    'frame_id': 1,\n",
       "    'requests': [],\n",
       "    'frame_parent_id': None,\n",
       "    'binary_questions': [],\n",
       "    'compare_requests': []}]},\n",
       " 'author': 'user',\n",
       " 'timestamp': 1471272019730.0}"
      ]
     },
     "execution_count": 42,
     "metadata": {},
     "output_type": "execute_result"
    }
   ],
   "source": [
    "data['turns'][entry_id][0]"
   ]
  },
  {
   "cell_type": "code",
   "execution_count": 8,
   "metadata": {},
   "outputs": [
    {
     "data": {
      "text/plain": [
       "dict_keys(['text', 'labels', 'author', 'timestamp'])"
      ]
     },
     "execution_count": 8,
     "metadata": {},
     "output_type": "execute_result"
    }
   ],
   "source": [
    "turns_list = data['turns'].tolist()\n",
    "turns_list[0][0].keys()\n"
   ]
  },
  {
   "cell_type": "code",
   "execution_count": 54,
   "metadata": {},
   "outputs": [
    {
     "data": {
      "text/plain": [
       "{'text': \"I'd like to book a trip to Atlantis from Caprica on Saturday, August 13, 2016 for 8 adults. I have a tight budget of 1700.\",\n",
       " 'labels': {'acts': [{'args': [{'val': 'book', 'key': 'intent'}],\n",
       "    'name': 'inform'},\n",
       "   {'args': [{'val': 'Atlantis', 'key': 'dst_city'},\n",
       "     {'val': 'Caprica', 'key': 'or_city'},\n",
       "     {'val': 'Saturday, August 13, 2016', 'key': 'str_date'},\n",
       "     {'val': '8', 'key': 'n_adults'},\n",
       "     {'val': '1700', 'key': 'budget'}],\n",
       "    'name': 'inform'}],\n",
       "  'acts_without_refs': [{'args': [{'val': 'book', 'key': 'intent'}],\n",
       "    'name': 'inform'},\n",
       "   {'args': [{'val': 'Atlantis', 'key': 'dst_city'},\n",
       "     {'val': 'Caprica', 'key': 'or_city'},\n",
       "     {'val': 'Saturday, August 13, 2016', 'key': 'str_date'},\n",
       "     {'val': '8', 'key': 'n_adults'},\n",
       "     {'val': '1700', 'key': 'budget'}],\n",
       "    'name': 'inform'}],\n",
       "  'active_frame': 1,\n",
       "  'frames': [{'info': {'intent': [{'val': 'book', 'negated': False}],\n",
       "     'budget': [{'val': '1700.0', 'negated': False}],\n",
       "     'dst_city': [{'val': 'Atlantis', 'negated': False}],\n",
       "     'or_city': [{'val': 'Caprica', 'negated': False}],\n",
       "     'str_date': [{'val': 'august 13', 'negated': False}],\n",
       "     'n_adults': [{'val': '8', 'negated': False}]},\n",
       "    'frame_id': 1,\n",
       "    'requests': [],\n",
       "    'frame_parent_id': None,\n",
       "    'binary_questions': [],\n",
       "    'compare_requests': []}]},\n",
       " 'author': 'user',\n",
       " 'timestamp': 1471272019730.0}"
      ]
     },
     "execution_count": 54,
     "metadata": {},
     "output_type": "execute_result"
    }
   ],
   "source": [
    "turns_list[0][0]"
   ]
  },
  {
   "cell_type": "code",
   "execution_count": 9,
   "metadata": {},
   "outputs": [
    {
     "data": {
      "text/plain": [
       "{'user': 10407, 'wizard': 9579}"
      ]
     },
     "execution_count": 9,
     "metadata": {},
     "output_type": "execute_result"
    }
   ],
   "source": [
    "#Study number of User/Wizard authoring text from dialogue\n",
    "dic_author = {}\n",
    "for turns in turns_list:\n",
    "    for message in turns:\n",
    "        author = message[\"author\"]\n",
    "        if not author in dic_author.keys():\n",
    "            dic_author[author] = 1\n",
    "        else:\n",
    "            dic_author[author] += 1\n",
    "dic_author\n"
   ]
  },
  {
   "cell_type": "code",
   "execution_count": 52,
   "metadata": {},
   "outputs": [
    {
     "data": {
      "text/plain": [
       "{'intent': ['book'],\n",
       " 'dst_city': ['Atlantis', 'Neverland'],\n",
       " 'or_city': ['Caprica', 'Atlantis'],\n",
       " 'str_date': ['Saturday, August 13, 2016'],\n",
       " 'n_adults': ['8', '5'],\n",
       " 'budget': ['1700', '1900'],\n",
       " 'ref': [[{'annotations': [{'val': 'Caprica', 'key': 'or_city'},\n",
       "     {'val': 'August 13, 2016', 'key': 'str_date'}],\n",
       "    'frame': 1,\n",
       "    'fromrange': False}],\n",
       "  [{'annotations': [{'val': 'Caprica', 'key': 'or_city'}],\n",
       "    'frame': 1,\n",
       "    'fromrange': False}]],\n",
       " 'flex': [False]}"
      ]
     },
     "execution_count": 52,
     "metadata": {},
     "output_type": "execute_result"
    }
   ],
   "source": [
    "# Extract values recognized by BOT and usefull for our application # In labels column: 'acts': [{'args': [{'val': 'book'\n",
    "def get_key_value(arg):\n",
    "    if \"key\" in arg and \"val\" in arg:\n",
    "        if arg['val'] != \"-1\" and arg['val'] != None:\n",
    "            key = arg[\"key\"]\n",
    "            val = arg[\"val\"]\n",
    "            return (key, val)\n",
    "    return None\n",
    "\n",
    "all_value = {}\n",
    "for conversation in turns_list[:1]: #Nous allons chercher dans les 2 premiers echanges\n",
    "    for message in conversation:\n",
    "        # On récupére uniquement les echanges du user\n",
    "        if message[\"author\"] == \"user\":\n",
    "            acts = message[\"labels\"][\"acts\"]\n",
    "            for act in acts:\n",
    "                if act[\"args\"]:\n",
    "                    for arg in act[\"args\"]:\n",
    "                        key, value = get_key_value(arg)\n",
    "                        if key in all_value:\n",
    "                            all_value[key].append(value)\n",
    "                        else:\n",
    "                            all_value[key] = [value]\n",
    "all_value\n"
   ]
  },
  {
   "cell_type": "markdown",
   "metadata": {},
   "source": [
    "Comme expliqué [ici](https://learn.microsoft.com/fr-fr/azure/cognitive-services/luis/concepts/application-design), notre schéma d'application (LUIS) devra contenir les intentions et les entités pertinentes pour la réservation de voyage.\n",
    "\n",
    "\n",
    "On remarque que notre jeu de données contient Frames.json les informations suivantes :\n",
    " - Intention: Reservation (**Book : spécifié dès le premier échange : *labels column: 'acts': [{'args': [{'val': 'book'***)\n",
    " - Destination: Atlantis ou Neverland\n",
    " - Origine: Caprica ou Atlantis\n",
    " - Date: 13 Aout 2016\n",
    " - nombre d'adultes: 8 ou 5\n",
    " - Budget: 1700 ou 1900\n",
    " - Ref: Nous retrouvons ici les Tuples imbriqués, qui font références au message antérieurs de l'utilisateur (Nous n'utiliserons pas cette information dans le cadre de notre projet V1)\n",
    "\n",
    "Voici les informations clés suivantes à déterminer par notre BOT : \n",
    "- 'dst_city'\n",
    "- 'or_city'\n",
    "- 'str_date'\n",
    "- 'end_date'\n",
    "- 'n_adult'\n",
    "- 'n_children'\n",
    "- 'budget'\n",
    "- 'seat'"
   ]
  },
  {
   "cell_type": "markdown",
   "metadata": {},
   "source": [
    "### Convertir les informations de notre dataset pour le rendre compatible avec le format JSON attendu par LUIS\n",
    "\n",
    "Nous devons concevoir le schéma d’application LUIS. notamment :\n",
    "- Intentions avec des exemples d’énoncés (Book_flight)\n",
    "- [Entités](https://learn.microsoft.com/fr-fr/azure/cognitive-services/luis/luis-concept-entity-types) (éléments de données extraits de l’énoncé, ex: destination, la date, la catégorie de ticket et la classe de voyage, le nombre de voyageurs)\n",
    "- Fonctionnalités\n",
    "\n",
    "Les entités LUIS permettent au BOT de comprendre les événements / intentions. Cela permet de collecter des informations supplémentaires, afin que le BOT puisse poser des questions et répondre plus intelligemment. \n",
    "\n",
    "le fichier FlightBooking.json d'origine contient les intentions : « Book Flight », « Cancel » et « None », avec un ensemble d’entités telles que « From.Airport » et « To.Airport ».\n",
    "Nous modifierons ces information à partir de notre **jeu de données Frames.json**, et plus spécifiquement a agissant sur la partie **utterances**: "
   ]
  },
  {
   "cell_type": "code",
   "execution_count": 11,
   "metadata": {},
   "outputs": [],
   "source": [
    "#Here an example of Utterance content\n",
    "# \"utterances\": [\n",
    "#     {\n",
    "#       \"text\": \"book flight from london to paris on feb 14th\",\n",
    "#       \"intent\": \"Book flight\",\n",
    "#       \"entities\": [\n",
    "#         {\n",
    "#           \"entity\": \"To\",\n",
    "#           \"startPos\": 27,\n",
    "#           \"endPos\": 31\n",
    "#         },"
   ]
  },
  {
   "cell_type": "code",
   "execution_count": 12,
   "metadata": {},
   "outputs": [],
   "source": [
    "def extract_entities(acts):\n",
    "    dst_city = None\n",
    "    or_city = None\n",
    "    str_date = None\n",
    "    end_date = None\n",
    "    n_adults = None\n",
    "    n_children = None #TBC\n",
    "    budget = None\n",
    "    seat = None #TBC\n",
    "    intent = None\n",
    "    for x in acts:\n",
    "        z = x['args']\n",
    "        if len(z) == 0:\n",
    "            break\n",
    "        for y in z:\n",
    "            if 'dst_city' in y.values() and 'val' in y.keys():\n",
    "                dst_city =  y['val']\n",
    "            if 'or_city' in y.values() and 'val' in y.keys():\n",
    "                or_city =  y['val']\n",
    "            if 'str_date' in y.values() and 'val' in y.keys():\n",
    "                str_date =  y['val']\n",
    "            if 'end_date' in y.values() and 'val' in y.keys():\n",
    "                end_date =  y['val']\n",
    "            if 'n_adults' in y.values() and 'val' in y.keys():\n",
    "                n_adults =  y['val']\n",
    "            if 'n_children' in y.values() and 'val' in y.keys():\n",
    "                n_children =  y['val']\n",
    "            if 'budget' in y.values() and 'val' in y.keys():\n",
    "                budget =  y['val']\n",
    "            if 'seat' in y.values() and 'val' in y.keys():\n",
    "                seat =  y['val']\n",
    "            if 'intent' in y.values() and 'val' in y.keys():\n",
    "                intent = y['val']\n",
    "            \n",
    "    return intent, or_city, dst_city, str_date, end_date, budget, n_adults, n_children, seat"
   ]
  },
  {
   "cell_type": "code",
   "execution_count": 171,
   "metadata": {},
   "outputs": [],
   "source": [
    "def convert_to_luis_json(ids, json_labels={'text':'text', 'intent':'intent', 'entities':'entities', 'startPos':'startPos', 'endPos':'endPos', 'entity':'entity'}):\n",
    "    json_top = []\n",
    "    for i in ids:\n",
    "        row = pd.DataFrame(data['turns'][i])\n",
    "        # We will use only the first sentence of the dialog --> iloc[0]\n",
    "        text = row.iloc[0]['text']\n",
    "        acts = row.iloc[0]['labels']['acts']\n",
    "        intent, or_city, dst_city, str_date, end_date, budget, n_adults, n_children, seat = extract_entities(acts)\n",
    "        if intent == \"book\":  \n",
    "            intent = \"Book flight\"\n",
    "        elif intent == None:\n",
    "            if any([or_city, dst_city, str_date, end_date, budget, n_adults, n_children, seat]):\n",
    "                intent = \"Book flight\"\n",
    "            else:\n",
    "                continue\n",
    "        entry_dict = {}\n",
    "        entry_dict[json_labels['text']] = text\n",
    "        entry_dict[json_labels['intent']] = intent\n",
    "        entities = []\n",
    "        #for k, v in zip([\"From\", \"To\"], [or_city, dst_city]) : #Working OK\n",
    "        for k, v in zip([\"From\", \"To\", \"budget\", \"n_adults\", \"n_children\", \"seat\"], [or_city, dst_city, budget, n_adults, n_children, seat]) :\n",
    "        #for k, v in zip([\"From\", \"To\", \"str_date\", \"end_date\", \"budget\", \"n_adults\", \"n_children\", \"seat\"], [or_city, dst_city, str_date, end_date, budget, n_adults, n_children, seat]) :\n",
    "            if v is None or v == -1 or v == str(-1):\n",
    "                continue\n",
    "            try:\n",
    "                v = re.escape(v)\n",
    "                match=(re.search(v.lower(), text.lower()))\n",
    "                entity = {json_labels[\"entity\"]:k, json_labels[\"startPos\"]:match.start(), json_labels[\"endPos\"]:match.end() -1}\n",
    "                entities.append(entity)\n",
    "            except AttributeError:\n",
    "                continue\n",
    "        entry_dict[json_labels['entities']] = entities\n",
    "        json_top.append(entry_dict)\n",
    "    return json_top"
   ]
  },
  {
   "cell_type": "code",
   "execution_count": 172,
   "metadata": {},
   "outputs": [
    {
     "name": "stdout",
     "output_type": "stream",
     "text": [
      "[\n",
      "  {\n",
      "    \"text\": \"I'd like to book a trip to Atlantis from Caprica on Saturday, August 13, 2016 for 8 adults. I have a tight budget of 1700.\",\n",
      "    \"intent\": \"Book flight\",\n",
      "    \"entities\": [\n",
      "      {\n",
      "        \"entity\": \"From\",\n",
      "        \"startPos\": 41,\n",
      "        \"endPos\": 47\n",
      "      },\n",
      "      {\n",
      "        \"entity\": \"To\",\n",
      "        \"startPos\": 27,\n",
      "        \"endPos\": 34\n",
      "      },\n",
      "      {\n",
      "        \"entity\": \"budget\",\n",
      "        \"startPos\": 117,\n",
      "        \"endPos\": 120\n",
      "      },\n",
      "      {\n",
      "        \"entity\": \"n_adults\",\n",
      "        \"startPos\": 82,\n",
      "        \"endPos\": 82\n",
      "      }\n",
      "    ]\n",
      "  },\n",
      "  {\n",
      "    \"text\": \"Hello, I am looking to book a vacation from Gotham City to Mos Eisley for $2100.\",\n",
      "    \"intent\": \"Book flight\",\n",
      "    \"entities\": [\n",
      "      {\n",
      "        \"entity\": \"From\",\n",
      "        \"startPos\": 44,\n",
      "        \"endPos\": 54\n",
      "      },\n",
      "      {\n",
      "        \"entity\": \"To\",\n",
      "        \"startPos\": 59,\n",
      "        \"endPos\": 68\n",
      "      },\n",
      "      {\n",
      "        \"entity\": \"budget\",\n",
      "        \"startPos\": 75,\n",
      "        \"endPos\": 78\n",
      "      }\n",
      "    ]\n",
      "  },\n",
      "  {\n",
      "    \"text\": \"Hello there i am looking to go on a vacation with my family to Gotham City, can you help me?\",\n",
      "    \"intent\": \"Book flight\",\n",
      "    \"entities\": [\n",
      "      {\n",
      "        \"entity\": \"To\",\n",
      "        \"startPos\": 63,\n",
      "        \"endPos\": 73\n",
      "      }\n",
      "    ]\n",
      "  },\n",
      "  {\n",
      "    \"text\": \"Hi I'd like to go to Caprica from Busan, between Sunday August 21, 2016 and Wednesday August 31, 2016\",\n",
      "    \"intent\": \"Book flight\",\n",
      "    \"entities\": [\n",
      "      {\n",
      "        \"entity\": \"From\",\n",
      "        \"startPos\": 34,\n",
      "        \"endPos\": 38\n",
      "      },\n",
      "      {\n",
      "        \"entity\": \"To\",\n",
      "        \"startPos\": 21,\n",
      "        \"endPos\": 27\n",
      "      }\n",
      "    ]\n",
      "  },\n",
      "  {\n",
      "    \"text\": \"Hello, I am looking to book a trip for 2 adults and 6 children for $21,300 or less. We are departing from Kochi for Denver.\",\n",
      "    \"intent\": \"Book flight\",\n",
      "    \"entities\": [\n",
      "      {\n",
      "        \"entity\": \"From\",\n",
      "        \"startPos\": 106,\n",
      "        \"endPos\": 110\n",
      "      },\n",
      "      {\n",
      "        \"entity\": \"To\",\n",
      "        \"startPos\": 116,\n",
      "        \"endPos\": 121\n",
      "      },\n",
      "      {\n",
      "        \"entity\": \"budget\",\n",
      "        \"startPos\": 67,\n",
      "        \"endPos\": 73\n",
      "      },\n",
      "      {\n",
      "        \"entity\": \"n_adults\",\n",
      "        \"startPos\": 39,\n",
      "        \"endPos\": 39\n",
      "      },\n",
      "      {\n",
      "        \"entity\": \"n_children\",\n",
      "        \"startPos\": 52,\n",
      "        \"endPos\": 52\n",
      "      }\n",
      "    ]\n",
      "  },\n",
      "  {\n",
      "    \"text\": \"Hey, i Want to go to St. Louis on the 17th of August\",\n",
      "    \"intent\": \"Book flight\",\n",
      "    \"entities\": [\n",
      "      {\n",
      "        \"entity\": \"To\",\n",
      "        \"startPos\": 21,\n",
      "        \"endPos\": 29\n",
      "      }\n",
      "    ]\n",
      "  },\n",
      "  {\n",
      "    \"text\": \"I'm looking for a trip to Gotham City leaving from Kakariko Village on Saturday, August 13, 2016. 3 adults for no more than $2400 USD.\",\n",
      "    \"intent\": \"Book flight\",\n",
      "    \"entities\": [\n",
      "      {\n",
      "        \"entity\": \"From\",\n",
      "        \"startPos\": 51,\n",
      "        \"endPos\": 66\n",
      "      },\n",
      "      {\n",
      "        \"entity\": \"To\",\n",
      "        \"startPos\": 26,\n",
      "        \"endPos\": 36\n",
      "      },\n",
      "      {\n",
      "        \"entity\": \"budget\",\n",
      "        \"startPos\": 124,\n",
      "        \"endPos\": 132\n",
      "      },\n",
      "      {\n",
      "        \"entity\": \"n_adults\",\n",
      "        \"startPos\": 89,\n",
      "        \"endPos\": 89\n",
      "      }\n",
      "    ]\n",
      "  },\n",
      "  {\n",
      "    \"text\": \"Hello, I am planning to book a trip to pittsborgh\",\n",
      "    \"intent\": \"Book flight\",\n",
      "    \"entities\": [\n",
      "      {\n",
      "        \"entity\": \"To\",\n",
      "        \"startPos\": 39,\n",
      "        \"endPos\": 48\n",
      "      }\n",
      "    ]\n",
      "  },\n",
      "  {\n",
      "    \"text\": \"Hi, I need to go to Mos Eisley for a wedding, leaving on Saturday, August 13, 2016 and returning on Tuesday, August 16, 2016. Preferably for $3700.\",\n",
      "    \"intent\": \"Book flight\",\n",
      "    \"entities\": [\n",
      "      {\n",
      "        \"entity\": \"To\",\n",
      "        \"startPos\": 20,\n",
      "        \"endPos\": 29\n",
      "      },\n",
      "      {\n",
      "        \"entity\": \"budget\",\n",
      "        \"startPos\": 141,\n",
      "        \"endPos\": 145\n",
      "      }\n",
      "    ]\n",
      "  }\n",
      "]\n"
     ]
    }
   ],
   "source": [
    "#Let's try how the conversion to Json compatible with LUIS works\n",
    "xxx = convert_to_luis_json(range(0,10))\n",
    "print(json.dumps(xxx, indent=2))"
   ]
  },
  {
   "cell_type": "code",
   "execution_count": null,
   "metadata": {},
   "outputs": [],
   "source": []
  },
  {
   "cell_type": "code",
   "execution_count": null,
   "metadata": {},
   "outputs": [],
   "source": []
  },
  {
   "cell_type": "code",
   "execution_count": null,
   "metadata": {},
   "outputs": [],
   "source": []
  },
  {
   "cell_type": "markdown",
   "metadata": {},
   "source": [
    "#### Conversion de l'ensemble du jeu de donnée et séparation en Train / Test"
   ]
  },
  {
   "cell_type": "code",
   "execution_count": 173,
   "metadata": {},
   "outputs": [
    {
     "data": {
      "text/plain": [
       "(887, 134)"
      ]
     },
     "execution_count": 173,
     "metadata": {},
     "output_type": "execute_result"
    }
   ],
   "source": [
    "train_size = round(data.shape[0] * 0.9)\n",
    "valid_size = data.shape[0] - train_size\n",
    "train_json = convert_to_luis_json(range(0,train_size))\n",
    "valid_json = convert_to_luis_json(range(train_size, train_size+valid_size))\n",
    "with open('dataset/train.json', 'w') as file:\n",
    "    json.dump(train_json, file)\n",
    "    \n",
    "with open('dataset/valid.json', 'w') as file:\n",
    "    json.dump(valid_json, file)\n",
    "    #json.dump(valid_json, file, indent=2)\n",
    "len(train_json), len(valid_json)"
   ]
  },
  {
   "cell_type": "markdown",
   "metadata": {},
   "source": [
    "#### Ajout des données d'entrainement au fichier FlightBooking.json\n"
   ]
  },
  {
   "cell_type": "code",
   "execution_count": 170,
   "metadata": {},
   "outputs": [],
   "source": [
    "#OK : starting from native FlightBooking file or template0\n",
    "#with open('dataset/FlightBooking.json', 'r') as file:\n",
    "with open('dataset/FlightBooking_template0.json', 'r') as file:\n",
    "    luis_config = json.load(file)\n",
    "\n",
    "luis_config['utterances'] = train_json\n",
    "#print(json.dumps(luis_config, indent=2))\n",
    "\n",
    "with open('dataset/FlightBooking_modified0.json', 'w') as file:\n",
    "    json.dump(luis_config, file, indent=1)"
   ]
  },
  {
   "cell_type": "code",
   "execution_count": 174,
   "metadata": {},
   "outputs": [],
   "source": [
    "#KO : starting from template1 FlightBooking created manually\n",
    "with open('dataset/FlightBooking_template1.json', 'r') as file:\n",
    "    luis_config = json.load(file)\n",
    "\n",
    "luis_config['utterances'] = train_json\n",
    "#print(json.dumps(luis_config, indent=2))\n",
    "\n",
    "with open('dataset/FlightBooking_modified1.json', 'w') as file:\n",
    "    json.dump(luis_config, file, indent=1)"
   ]
  },
  {
   "cell_type": "markdown",
   "metadata": {},
   "source": [
    "### Autre exemple de conversion JSON"
   ]
  },
  {
   "cell_type": "code",
   "execution_count": null,
   "metadata": {},
   "outputs": [],
   "source": []
  },
  {
   "cell_type": "code",
   "execution_count": 110,
   "metadata": {},
   "outputs": [],
   "source": [
    "ls_entities = [\n",
    "    \"or_city\",\n",
    "    \"dst_city\",\n",
    "    \"str_date\",\n",
    "    \"end_date\",\n",
    "    \"budget\"\n",
    "]\n",
    "\n",
    "def get_turn_entities(data, index, ls_entities):\n",
    "    luis_data = []\n",
    "    for conversation in data['turns'][index][:1]: # Nous n'utiliserons que les première entrée de l'utilisateur\n",
    "        json_part = {}\n",
    "        txt = conversation[\"text\"].lower()\n",
    "        json_part[\"text\"] = txt\n",
    "        json_part[\"intent\"] = \"Book flight\"\n",
    "        # Nous n'utiliserons que ce qu'ont écrit les utilisateurs\n",
    "        if conversation[\"author\"] == \"user\":\n",
    "            for act in conversation[\"labels\"][\"acts\"]:\n",
    "                entities = []\n",
    "                for arg in act[\"args\"]:\n",
    "                    if arg[\"key\"] in ls_entities:\n",
    "                        entity = {}\n",
    "                        key = arg[\"key\"].lower()\n",
    "                        if \"val\" in arg.keys():\n",
    "                            val = arg[\"val\"].lower()\n",
    "                            if val != \"-1\":\n",
    "                                startCharIndex = txt.index(val)\n",
    "                                endCharIndex = startCharIndex + len(val)\n",
    "                                entity[\"entity\"] = key\n",
    "                                entity[\"startPos\"] = startCharIndex\n",
    "                                entity[\"endPos\"] = endCharIndex\n",
    "                                entities.append(entity)\n",
    "                json_part[\"entities\"] = entities\n",
    "                \n",
    "        if (len(json_part)>0):\n",
    "            if \"entities\" in json_part.keys():\n",
    "                if len(json_part[\"entities\"])>0:\n",
    "                    luis_data.append(json_part)\n",
    "    return luis_data\n",
    "\n",
    "def convert_data(data, ls_entities):\n",
    "    luis_data = []\n",
    "    for i in range(data.shape[0]):\n",
    "        json_part = get_turn_entities(data, i, ls_entities)\n",
    "        if len(json_part)>0:\n",
    "            for j in range(len(json_part)):\n",
    "                luis_data.append(json_part[j])\n",
    "    return luis_data"
   ]
  },
  {
   "cell_type": "code",
   "execution_count": null,
   "metadata": {},
   "outputs": [],
   "source": []
  },
  {
   "cell_type": "code",
   "execution_count": 127,
   "metadata": {},
   "outputs": [
    {
     "data": {
      "text/plain": [
       "11"
      ]
     },
     "execution_count": 127,
     "metadata": {},
     "output_type": "execute_result"
    }
   ],
   "source": [
    "# pour convertir les data pour LUIS :\n",
    "luis_json = convert_data(data[:17], ls_entities) #18 is causing trouble when importing JSON: BadArgument: Invalid value dst_city = \"mexico city\"\n",
    "\n",
    "with open('dataset/luis_json.json', 'w') as file:\n",
    "    json.dump(luis_json, file)\n",
    "len(luis_json)\n"
   ]
  },
  {
   "cell_type": "code",
   "execution_count": 128,
   "metadata": {},
   "outputs": [],
   "source": [
    "with open('dataset/FlightBooking_template.json', 'r') as file:\n",
    "    v0_FlightBooking = json.load(file)\n",
    "\n",
    "v0_FlightBooking['utterances'] = luis_json\n",
    "#print(json.dumps(luis_config, indent=2))\n",
    "\n",
    "with open('dataset/FlightBooking_modified4.json', 'w') as file:\n",
    "    json.dump(v0_FlightBooking, file, indent=1)"
   ]
  },
  {
   "cell_type": "code",
   "execution_count": 124,
   "metadata": {},
   "outputs": [
    {
     "data": {
      "text/plain": [
       "[{'text': \"i'd like to book a trip to atlantis from caprica on saturday, august 13, 2016 for 8 adults. i have a tight budget of 1700.\",\n",
       "  'intent': 'Book flight',\n",
       "  'entities': [{'entity': 'dst_city', 'startPos': 27, 'endPos': 35},\n",
       "   {'entity': 'or_city', 'startPos': 41, 'endPos': 48},\n",
       "   {'entity': 'str_date', 'startPos': 52, 'endPos': 77},\n",
       "   {'entity': 'budget', 'startPos': 117, 'endPos': 121}]},\n",
       " {'text': \"i'm looking for a trip to gotham city leaving from kakariko village on saturday, august 13, 2016. 3 adults for no more than $2400 usd.\",\n",
       "  'intent': 'Book flight',\n",
       "  'entities': [{'entity': 'dst_city', 'startPos': 26, 'endPos': 37},\n",
       "   {'entity': 'or_city', 'startPos': 51, 'endPos': 67},\n",
       "   {'entity': 'str_date', 'startPos': 71, 'endPos': 96},\n",
       "   {'entity': 'budget', 'startPos': 124, 'endPos': 133}]},\n",
       " {'text': 'hello, i would like to book a 2-week trip leaving from melbourne on august 27. i would like to go to mannheim.',\n",
       "  'intent': 'Book flight',\n",
       "  'entities': [{'entity': 'or_city', 'startPos': 55, 'endPos': 64},\n",
       "   {'entity': 'dst_city', 'startPos': 101, 'endPos': 109},\n",
       "   {'entity': 'str_date', 'startPos': 68, 'endPos': 77}]},\n",
       " {'text': 'hi, i need to go to mos eisley for a wedding, leaving on saturday, august 13, 2016 and returning on tuesday, august 16, 2016. preferably for $3700.',\n",
       "  'intent': 'Book flight',\n",
       "  'entities': [{'entity': 'dst_city', 'startPos': 20, 'endPos': 30},\n",
       "   {'entity': 'str_date', 'startPos': 57, 'endPos': 82},\n",
       "   {'entity': 'end_date', 'startPos': 100, 'endPos': 124},\n",
       "   {'entity': 'budget', 'startPos': 141, 'endPos': 146}]},\n",
       " {'text': \"i'd like to get away from monday, august 15, 2016 to wednesday, august 31, 2016. my budget is $3200 and i would leave from detroit.\",\n",
       "  'intent': 'Book flight',\n",
       "  'entities': [{'entity': 'str_date', 'startPos': 26, 'endPos': 49},\n",
       "   {'entity': 'end_date', 'startPos': 53, 'endPos': 79},\n",
       "   {'entity': 'budget', 'startPos': 94, 'endPos': 99},\n",
       "   {'entity': 'or_city', 'startPos': 123, 'endPos': 130}]},\n",
       " {'text': 'good day, please book me a trip from vancouver, jamaica to recife. i would like to leave for 17 days on august 24.',\n",
       "  'intent': 'Book flight',\n",
       "  'entities': [{'entity': 'or_city', 'startPos': 37, 'endPos': 55},\n",
       "   {'entity': 'dst_city', 'startPos': 59, 'endPos': 65},\n",
       "   {'entity': 'str_date', 'startPos': 104, 'endPos': 113}]},\n",
       " {'text': \"hi, i have a big family and we can't afford a big vacation, we want to go to atlantis from mos eisley for $3600 at most.\",\n",
       "  'intent': 'Book flight',\n",
       "  'entities': [{'entity': 'dst_city', 'startPos': 77, 'endPos': 85},\n",
       "   {'entity': 'or_city', 'startPos': 91, 'endPos': 101},\n",
       "   {'entity': 'budget', 'startPos': 106, 'endPos': 111}]},\n",
       " {'text': \"hi, i'm leaving from diagon alley and going to coruscant on a budget of $3400. the dates don't matter, but i cannot afford anything over my budget.\",\n",
       "  'intent': 'Book flight',\n",
       "  'entities': [{'entity': 'or_city', 'startPos': 21, 'endPos': 33},\n",
       "   {'entity': 'dst_city', 'startPos': 47, 'endPos': 56},\n",
       "   {'entity': 'budget', 'startPos': 72, 'endPos': 77}]},\n",
       " {'text': 'hi there, im from vitoria and i want to go on vacation',\n",
       "  'intent': 'Book flight',\n",
       "  'entities': [{'entity': 'or_city', 'startPos': 18, 'endPos': 25}]},\n",
       " {'text': 'hi, me and my family want to take a trip to kakariko village.',\n",
       "  'intent': 'Book flight',\n",
       "  'entities': [{'entity': 'dst_city', 'startPos': 44, 'endPos': 60}]}]"
      ]
     },
     "execution_count": 124,
     "metadata": {},
     "output_type": "execute_result"
    }
   ],
   "source": [
    "luis_json"
   ]
  },
  {
   "cell_type": "code",
   "execution_count": null,
   "metadata": {},
   "outputs": [],
   "source": []
  }
 ],
 "metadata": {
  "kernelspec": {
   "display_name": "Python 3.9.13 ('IA_Project10')",
   "language": "python",
   "name": "python3"
  },
  "language_info": {
   "codemirror_mode": {
    "name": "ipython",
    "version": 3
   },
   "file_extension": ".py",
   "mimetype": "text/x-python",
   "name": "python",
   "nbconvert_exporter": "python",
   "pygments_lexer": "ipython3",
   "version": "3.9.13"
  },
  "orig_nbformat": 4,
  "vscode": {
   "interpreter": {
    "hash": "28cdd87767194762c8704313e15061f36998a9182347a835d24f734e5c580b17"
   }
  }
 },
 "nbformat": 4,
 "nbformat_minor": 2
}
